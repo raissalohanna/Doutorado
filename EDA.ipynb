{
  "nbformat": 4,
  "nbformat_minor": 0,
  "metadata": {
    "colab": {
      "provenance": [],
      "authorship_tag": "ABX9TyMIvQatnuZZwkJN8LgzenzU",
      "include_colab_link": true
    },
    "kernelspec": {
      "name": "python3",
      "display_name": "Python 3"
    },
    "language_info": {
      "name": "python"
    }
  },
  "cells": [
    {
      "cell_type": "markdown",
      "metadata": {
        "id": "view-in-github",
        "colab_type": "text"
      },
      "source": [
        "<a href=\"https://colab.research.google.com/github/raissalohanna/Doutorado/blob/main/EDA.ipynb\" target=\"_parent\"><img src=\"https://colab.research.google.com/assets/colab-badge.svg\" alt=\"Open In Colab\"/></a>"
      ]
    },
    {
      "cell_type": "markdown",
      "source": [
        "# **EDA of new extraction of PubChemQC**\n",
        "\n",
        "**Responsible** for the extraction: Vinicius Ávila\n",
        "**Date of extraction**: March 2023\n",
        "\n",
        "**Objective**: Make an exploratory data analysis (EDA) of the data\n",
        "\n",
        "**Details**: available at the README file"
      ],
      "metadata": {
        "id": "iQrbHMTjzS9x"
      }
    },
    {
      "cell_type": "markdown",
      "source": [
        "# Drive - Colab configuration"
      ],
      "metadata": {
        "id": "kwn5D8-zkvgo"
      }
    },
    {
      "cell_type": "code",
      "source": [
        "from google.colab import drive\n",
        "drive.mount('/content/drive')"
      ],
      "metadata": {
        "colab": {
          "base_uri": "https://localhost:8080/"
        },
        "id": "FimXpMB1kfPX",
        "outputId": "c646b60c-dcb7-47eb-f0d9-c8f848647a2c"
      },
      "execution_count": null,
      "outputs": [
        {
          "output_type": "stream",
          "name": "stdout",
          "text": [
            "Mounted at /content/drive\n"
          ]
        }
      ]
    },
    {
      "cell_type": "code",
      "source": [
        "!pip install rdkit"
      ],
      "metadata": {
        "colab": {
          "base_uri": "https://localhost:8080/"
        },
        "id": "veIjN3dVk03W",
        "outputId": "a23b74f1-98f2-4bd4-f202-825a141ae9cd"
      },
      "execution_count": null,
      "outputs": [
        {
          "output_type": "stream",
          "name": "stdout",
          "text": [
            "Looking in indexes: https://pypi.org/simple, https://us-python.pkg.dev/colab-wheels/public/simple/\n",
            "Collecting rdkit\n",
            "  Downloading rdkit-2022.9.5-cp39-cp39-manylinux_2_17_x86_64.manylinux2014_x86_64.whl (29.4 MB)\n",
            "\u001b[2K     \u001b[90m━━━━━━━━━━━━━━━━━━━━━━━━━━━━━━━━━━━━━━━━\u001b[0m \u001b[32m29.4/29.4 MB\u001b[0m \u001b[31m48.2 MB/s\u001b[0m eta \u001b[36m0:00:00\u001b[0m\n",
            "\u001b[?25hRequirement already satisfied: numpy in /usr/local/lib/python3.9/dist-packages (from rdkit) (1.22.4)\n",
            "Requirement already satisfied: Pillow in /usr/local/lib/python3.9/dist-packages (from rdkit) (8.4.0)\n",
            "Installing collected packages: rdkit\n",
            "Successfully installed rdkit-2022.9.5\n"
          ]
        }
      ]
    },
    {
      "cell_type": "markdown",
      "source": [
        "# Importing libraries and configuration"
      ],
      "metadata": {
        "id": "lcpcQi7ykq9h"
      }
    },
    {
      "cell_type": "code",
      "source": [
        "import numpy as np\n",
        "import pandas as pd\n",
        "import seaborn as sns\n",
        "from rdkit import Chem\n",
        "import matplotlib.pyplot as plt"
      ],
      "metadata": {
        "id": "Un-LWg4rkzFq"
      },
      "execution_count": null,
      "outputs": []
    },
    {
      "cell_type": "code",
      "source": [
        "from tqdm import tqdm"
      ],
      "metadata": {
        "id": "zMiFRyNTk4MD"
      },
      "execution_count": null,
      "outputs": []
    },
    {
      "cell_type": "code",
      "source": [
        "pd.set_option('display.max_columns', None)"
      ],
      "metadata": {
        "id": "fOgcAAPok4rf"
      },
      "execution_count": null,
      "outputs": []
    },
    {
      "cell_type": "code",
      "source": [
        "sns.set_theme(style=\"darkgrid\", palette=\"husl\", rc={\"figure.figsize\":(10, 5)})"
      ],
      "metadata": {
        "id": "2--FokONk6Wi"
      },
      "execution_count": null,
      "outputs": []
    },
    {
      "cell_type": "markdown",
      "source": [
        "Load data"
      ],
      "metadata": {
        "id": "_Wb5SqABlHS6"
      }
    },
    {
      "cell_type": "code",
      "execution_count": null,
      "metadata": {
        "id": "mO7PBa6QkO2t"
      },
      "outputs": [],
      "source": [
        "df_smiles = pd.read_parquet(\"/content/drive/MyDrive/Colab Notebooks/Doutorado/PubchemQC_nova_base/selected_smiles.parquet\")"
      ]
    },
    {
      "cell_type": "code",
      "source": [
        "df_properties = pd.read_parquet(\"/content/drive/MyDrive/Colab Notebooks/Doutorado/PubchemQC_nova_base/selected_qm_properties.parquet\")"
      ],
      "metadata": {
        "id": "EVF-FLdulT63"
      },
      "execution_count": null,
      "outputs": []
    },
    {
      "cell_type": "code",
      "source": [
        "df_transitions = pd.read_parquet(\"/content/drive/MyDrive/Colab Notebooks/Doutorado/PubchemQC_nova_base/selected_transitions_energies.parquet\")"
      ],
      "metadata": {
        "id": "ynkXznCTlczw"
      },
      "execution_count": null,
      "outputs": []
    },
    {
      "cell_type": "markdown",
      "source": [
        "# Df smiles"
      ],
      "metadata": {
        "id": "oPMeYbz7me5W"
      }
    },
    {
      "cell_type": "code",
      "source": [
        "df_smiles = df_smiles.reset_index()"
      ],
      "metadata": {
        "id": "stcHfbtymZDO"
      },
      "execution_count": null,
      "outputs": []
    },
    {
      "cell_type": "code",
      "source": [
        "df_smiles"
      ],
      "metadata": {
        "colab": {
          "base_uri": "https://localhost:8080/",
          "height": 424
        },
        "id": "9xUNfaPRls1j",
        "outputId": "8d23c2a3-3065-4127-f6a6-668368dc04c7"
      },
      "execution_count": null,
      "outputs": [
        {
          "output_type": "execute_result",
          "data": {
            "text/plain": [
              "              cid                                  smiles smiles source\n",
              "0               3            O=C(O)C1=CC=C[C@H](O)[C@H]1O     PubChemQC\n",
              "1               4                             C[C@H](O)CN     PubChemQC\n",
              "2               5                      NCC(=O)COP(=O)(O)O     PubChemQC\n",
              "3               6  O=[N+]([O-])c1ccc(Cl)c([N+](=O)[O-])c1     PubChemQC\n",
              "4               7                      CCn1cnc2c(N)ncnc21     PubChemQC\n",
              "...           ...                                     ...           ...\n",
              "2365695  75276551             C/C(=N/N[C@@H](N)S)c1ccccn1     PubChemQC\n",
              "2365696  75276555            CN[C@@H](S)N/N=C(/C)c1ccccn1     PubChemQC\n",
              "2365697  75277118            C=CCN(/C=C/c1ccccc1Cl)C(C)=O     PubChemQC\n",
              "2365698  75277120             C=CCN(/C=C/c1ccccc1C)C(C)=O     PubChemQC\n",
              "2365699  75277121         COc1ccc(/C=C/N(C)C(C)=O)c(OC)c1     PubChemQC\n",
              "\n",
              "[2365700 rows x 3 columns]"
            ],
            "text/html": [
              "\n",
              "  <div id=\"df-9381f351-d0ac-4e4a-83a5-08bd68d8477d\">\n",
              "    <div class=\"colab-df-container\">\n",
              "      <div>\n",
              "<style scoped>\n",
              "    .dataframe tbody tr th:only-of-type {\n",
              "        vertical-align: middle;\n",
              "    }\n",
              "\n",
              "    .dataframe tbody tr th {\n",
              "        vertical-align: top;\n",
              "    }\n",
              "\n",
              "    .dataframe thead th {\n",
              "        text-align: right;\n",
              "    }\n",
              "</style>\n",
              "<table border=\"1\" class=\"dataframe\">\n",
              "  <thead>\n",
              "    <tr style=\"text-align: right;\">\n",
              "      <th></th>\n",
              "      <th>cid</th>\n",
              "      <th>smiles</th>\n",
              "      <th>smiles source</th>\n",
              "    </tr>\n",
              "  </thead>\n",
              "  <tbody>\n",
              "    <tr>\n",
              "      <th>0</th>\n",
              "      <td>3</td>\n",
              "      <td>O=C(O)C1=CC=C[C@H](O)[C@H]1O</td>\n",
              "      <td>PubChemQC</td>\n",
              "    </tr>\n",
              "    <tr>\n",
              "      <th>1</th>\n",
              "      <td>4</td>\n",
              "      <td>C[C@H](O)CN</td>\n",
              "      <td>PubChemQC</td>\n",
              "    </tr>\n",
              "    <tr>\n",
              "      <th>2</th>\n",
              "      <td>5</td>\n",
              "      <td>NCC(=O)COP(=O)(O)O</td>\n",
              "      <td>PubChemQC</td>\n",
              "    </tr>\n",
              "    <tr>\n",
              "      <th>3</th>\n",
              "      <td>6</td>\n",
              "      <td>O=[N+]([O-])c1ccc(Cl)c([N+](=O)[O-])c1</td>\n",
              "      <td>PubChemQC</td>\n",
              "    </tr>\n",
              "    <tr>\n",
              "      <th>4</th>\n",
              "      <td>7</td>\n",
              "      <td>CCn1cnc2c(N)ncnc21</td>\n",
              "      <td>PubChemQC</td>\n",
              "    </tr>\n",
              "    <tr>\n",
              "      <th>...</th>\n",
              "      <td>...</td>\n",
              "      <td>...</td>\n",
              "      <td>...</td>\n",
              "    </tr>\n",
              "    <tr>\n",
              "      <th>2365695</th>\n",
              "      <td>75276551</td>\n",
              "      <td>C/C(=N/N[C@@H](N)S)c1ccccn1</td>\n",
              "      <td>PubChemQC</td>\n",
              "    </tr>\n",
              "    <tr>\n",
              "      <th>2365696</th>\n",
              "      <td>75276555</td>\n",
              "      <td>CN[C@@H](S)N/N=C(/C)c1ccccn1</td>\n",
              "      <td>PubChemQC</td>\n",
              "    </tr>\n",
              "    <tr>\n",
              "      <th>2365697</th>\n",
              "      <td>75277118</td>\n",
              "      <td>C=CCN(/C=C/c1ccccc1Cl)C(C)=O</td>\n",
              "      <td>PubChemQC</td>\n",
              "    </tr>\n",
              "    <tr>\n",
              "      <th>2365698</th>\n",
              "      <td>75277120</td>\n",
              "      <td>C=CCN(/C=C/c1ccccc1C)C(C)=O</td>\n",
              "      <td>PubChemQC</td>\n",
              "    </tr>\n",
              "    <tr>\n",
              "      <th>2365699</th>\n",
              "      <td>75277121</td>\n",
              "      <td>COc1ccc(/C=C/N(C)C(C)=O)c(OC)c1</td>\n",
              "      <td>PubChemQC</td>\n",
              "    </tr>\n",
              "  </tbody>\n",
              "</table>\n",
              "<p>2365700 rows × 3 columns</p>\n",
              "</div>\n",
              "      <button class=\"colab-df-convert\" onclick=\"convertToInteractive('df-9381f351-d0ac-4e4a-83a5-08bd68d8477d')\"\n",
              "              title=\"Convert this dataframe to an interactive table.\"\n",
              "              style=\"display:none;\">\n",
              "        \n",
              "  <svg xmlns=\"http://www.w3.org/2000/svg\" height=\"24px\"viewBox=\"0 0 24 24\"\n",
              "       width=\"24px\">\n",
              "    <path d=\"M0 0h24v24H0V0z\" fill=\"none\"/>\n",
              "    <path d=\"M18.56 5.44l.94 2.06.94-2.06 2.06-.94-2.06-.94-.94-2.06-.94 2.06-2.06.94zm-11 1L8.5 8.5l.94-2.06 2.06-.94-2.06-.94L8.5 2.5l-.94 2.06-2.06.94zm10 10l.94 2.06.94-2.06 2.06-.94-2.06-.94-.94-2.06-.94 2.06-2.06.94z\"/><path d=\"M17.41 7.96l-1.37-1.37c-.4-.4-.92-.59-1.43-.59-.52 0-1.04.2-1.43.59L10.3 9.45l-7.72 7.72c-.78.78-.78 2.05 0 2.83L4 21.41c.39.39.9.59 1.41.59.51 0 1.02-.2 1.41-.59l7.78-7.78 2.81-2.81c.8-.78.8-2.07 0-2.86zM5.41 20L4 18.59l7.72-7.72 1.47 1.35L5.41 20z\"/>\n",
              "  </svg>\n",
              "      </button>\n",
              "      \n",
              "  <style>\n",
              "    .colab-df-container {\n",
              "      display:flex;\n",
              "      flex-wrap:wrap;\n",
              "      gap: 12px;\n",
              "    }\n",
              "\n",
              "    .colab-df-convert {\n",
              "      background-color: #E8F0FE;\n",
              "      border: none;\n",
              "      border-radius: 50%;\n",
              "      cursor: pointer;\n",
              "      display: none;\n",
              "      fill: #1967D2;\n",
              "      height: 32px;\n",
              "      padding: 0 0 0 0;\n",
              "      width: 32px;\n",
              "    }\n",
              "\n",
              "    .colab-df-convert:hover {\n",
              "      background-color: #E2EBFA;\n",
              "      box-shadow: 0px 1px 2px rgba(60, 64, 67, 0.3), 0px 1px 3px 1px rgba(60, 64, 67, 0.15);\n",
              "      fill: #174EA6;\n",
              "    }\n",
              "\n",
              "    [theme=dark] .colab-df-convert {\n",
              "      background-color: #3B4455;\n",
              "      fill: #D2E3FC;\n",
              "    }\n",
              "\n",
              "    [theme=dark] .colab-df-convert:hover {\n",
              "      background-color: #434B5C;\n",
              "      box-shadow: 0px 1px 3px 1px rgba(0, 0, 0, 0.15);\n",
              "      filter: drop-shadow(0px 1px 2px rgba(0, 0, 0, 0.3));\n",
              "      fill: #FFFFFF;\n",
              "    }\n",
              "  </style>\n",
              "\n",
              "      <script>\n",
              "        const buttonEl =\n",
              "          document.querySelector('#df-9381f351-d0ac-4e4a-83a5-08bd68d8477d button.colab-df-convert');\n",
              "        buttonEl.style.display =\n",
              "          google.colab.kernel.accessAllowed ? 'block' : 'none';\n",
              "\n",
              "        async function convertToInteractive(key) {\n",
              "          const element = document.querySelector('#df-9381f351-d0ac-4e4a-83a5-08bd68d8477d');\n",
              "          const dataTable =\n",
              "            await google.colab.kernel.invokeFunction('convertToInteractive',\n",
              "                                                     [key], {});\n",
              "          if (!dataTable) return;\n",
              "\n",
              "          const docLinkHtml = 'Like what you see? Visit the ' +\n",
              "            '<a target=\"_blank\" href=https://colab.research.google.com/notebooks/data_table.ipynb>data table notebook</a>'\n",
              "            + ' to learn more about interactive tables.';\n",
              "          element.innerHTML = '';\n",
              "          dataTable['output_type'] = 'display_data';\n",
              "          await google.colab.output.renderOutput(dataTable, element);\n",
              "          const docLink = document.createElement('div');\n",
              "          docLink.innerHTML = docLinkHtml;\n",
              "          element.appendChild(docLink);\n",
              "        }\n",
              "      </script>\n",
              "    </div>\n",
              "  </div>\n",
              "  "
            ]
          },
          "metadata": {},
          "execution_count": 11
        }
      ]
    },
    {
      "cell_type": "code",
      "source": [
        "df_smiles.info()"
      ],
      "metadata": {
        "colab": {
          "base_uri": "https://localhost:8080/"
        },
        "id": "nYZj3xT2sDdw",
        "outputId": "8eec400d-b557-46e5-e962-31c93f6ae9e8"
      },
      "execution_count": null,
      "outputs": [
        {
          "output_type": "stream",
          "name": "stdout",
          "text": [
            "<class 'pandas.core.frame.DataFrame'>\n",
            "RangeIndex: 2365700 entries, 0 to 2365699\n",
            "Data columns (total 3 columns):\n",
            " #   Column         Dtype \n",
            "---  ------         ----- \n",
            " 0   cid            int64 \n",
            " 1   smiles         object\n",
            " 2   smiles source  object\n",
            "dtypes: int64(1), object(2)\n",
            "memory usage: 54.1+ MB\n"
          ]
        }
      ]
    },
    {
      "cell_type": "code",
      "source": [
        "df_smiles.isnull().sum()"
      ],
      "metadata": {
        "colab": {
          "base_uri": "https://localhost:8080/"
        },
        "id": "I0C-Kv54r_yd",
        "outputId": "b45309eb-ff4e-46bb-c2c7-95e7c42dd0f3"
      },
      "execution_count": null,
      "outputs": [
        {
          "output_type": "execute_result",
          "data": {
            "text/plain": [
              "cid              0\n",
              "smiles           0\n",
              "smiles source    0\n",
              "dtype: int64"
            ]
          },
          "metadata": {},
          "execution_count": 13
        }
      ]
    },
    {
      "cell_type": "code",
      "source": [
        "df_smiles['cid'].duplicated().sum()"
      ],
      "metadata": {
        "colab": {
          "base_uri": "https://localhost:8080/"
        },
        "id": "y2FcrhF0mQJh",
        "outputId": "08e40ccb-2e05-417e-8ff6-a16416ebf6d5"
      },
      "execution_count": null,
      "outputs": [
        {
          "output_type": "execute_result",
          "data": {
            "text/plain": [
              "0"
            ]
          },
          "metadata": {},
          "execution_count": 14
        }
      ]
    },
    {
      "cell_type": "code",
      "source": [
        "df_smiles['smiles'].duplicated().sum()"
      ],
      "metadata": {
        "colab": {
          "base_uri": "https://localhost:8080/"
        },
        "id": "v6jqX_jul0b8",
        "outputId": "5281ba3a-56fe-43da-aed8-cfb6a46eb944"
      },
      "execution_count": null,
      "outputs": [
        {
          "output_type": "execute_result",
          "data": {
            "text/plain": [
              "103331"
            ]
          },
          "metadata": {},
          "execution_count": 15
        }
      ]
    },
    {
      "cell_type": "code",
      "source": [
        "df_smiles['smiles source'].value_counts()"
      ],
      "metadata": {
        "colab": {
          "base_uri": "https://localhost:8080/"
        },
        "id": "UWFhqqNhlwsx",
        "outputId": "aeead722-6933-4b9d-b396-9e6b1ae8fb4c"
      },
      "execution_count": null,
      "outputs": [
        {
          "output_type": "execute_result",
          "data": {
            "text/plain": [
              "PubChemQC    2365700\n",
              "Name: smiles source, dtype: int64"
            ]
          },
          "metadata": {},
          "execution_count": 16
        }
      ]
    },
    {
      "cell_type": "markdown",
      "source": [
        "# Df properties"
      ],
      "metadata": {
        "id": "kq7QWH14m5KG"
      }
    },
    {
      "cell_type": "code",
      "source": [
        "df_properties = df_properties.reset_index()"
      ],
      "metadata": {
        "id": "jkA4TfAHnovM"
      },
      "execution_count": null,
      "outputs": []
    },
    {
      "cell_type": "code",
      "source": [
        "new_col_names = dict(zip(df_properties.columns,[\"_\".join(col.split()) for col in df_properties.columns]))\n",
        "new_col_names"
      ],
      "metadata": {
        "colab": {
          "base_uri": "https://localhost:8080/"
        },
        "id": "Mn2cG7nMoqLh",
        "outputId": "a4dafa0f-af46-40a2-a231-b9771dfbdc13"
      },
      "execution_count": null,
      "outputs": [
        {
          "output_type": "execute_result",
          "data": {
            "text/plain": [
              "{'cid': 'cid',\n",
              " 'charge': 'charge',\n",
              " 'total dipole moment': 'total_dipole_moment',\n",
              " 'multiplicity': 'multiplicity',\n",
              " 'homo': 'homo',\n",
              " 'lumo': 'lumo',\n",
              " 'gap': 'gap',\n",
              " 'total energy': 'total_energy'}"
            ]
          },
          "metadata": {},
          "execution_count": 18
        }
      ]
    },
    {
      "cell_type": "code",
      "source": [
        "df_properties = df_properties.rename(columns=new_col_names)"
      ],
      "metadata": {
        "id": "7H_BCp7jn376"
      },
      "execution_count": null,
      "outputs": []
    },
    {
      "cell_type": "code",
      "source": [
        "df_properties.head()"
      ],
      "metadata": {
        "colab": {
          "base_uri": "https://localhost:8080/",
          "height": 206
        },
        "id": "usBhdCMxm6Zq",
        "outputId": "91d3f929-3312-4d93-8887-0b91de6eac72"
      },
      "execution_count": null,
      "outputs": [
        {
          "output_type": "execute_result",
          "data": {
            "text/plain": [
              "   cid  charge  total_dipole_moment  multiplicity      homo      lumo  \\\n",
              "0    3       0             5.266252             1 -6.821894 -2.239497   \n",
              "1    4       0             2.681395             1 -6.187869  1.847653   \n",
              "2    5       0             8.447997             1 -7.270882 -1.529280   \n",
              "3    6       0             4.157554             1 -8.149810 -3.246318   \n",
              "4    7       0             2.775867             1 -5.823236 -0.389123   \n",
              "\n",
              "        gap  total_energy  \n",
              "0  4.582397 -15575.874068  \n",
              "1  8.035522  -6794.535860  \n",
              "2  5.741602 -24256.843704  \n",
              "3  4.903492 -29955.022787  \n",
              "4  5.434114 -14856.035269  "
            ],
            "text/html": [
              "\n",
              "  <div id=\"df-0d6de052-3f28-4732-b1d0-2be2449305ea\">\n",
              "    <div class=\"colab-df-container\">\n",
              "      <div>\n",
              "<style scoped>\n",
              "    .dataframe tbody tr th:only-of-type {\n",
              "        vertical-align: middle;\n",
              "    }\n",
              "\n",
              "    .dataframe tbody tr th {\n",
              "        vertical-align: top;\n",
              "    }\n",
              "\n",
              "    .dataframe thead th {\n",
              "        text-align: right;\n",
              "    }\n",
              "</style>\n",
              "<table border=\"1\" class=\"dataframe\">\n",
              "  <thead>\n",
              "    <tr style=\"text-align: right;\">\n",
              "      <th></th>\n",
              "      <th>cid</th>\n",
              "      <th>charge</th>\n",
              "      <th>total_dipole_moment</th>\n",
              "      <th>multiplicity</th>\n",
              "      <th>homo</th>\n",
              "      <th>lumo</th>\n",
              "      <th>gap</th>\n",
              "      <th>total_energy</th>\n",
              "    </tr>\n",
              "  </thead>\n",
              "  <tbody>\n",
              "    <tr>\n",
              "      <th>0</th>\n",
              "      <td>3</td>\n",
              "      <td>0</td>\n",
              "      <td>5.266252</td>\n",
              "      <td>1</td>\n",
              "      <td>-6.821894</td>\n",
              "      <td>-2.239497</td>\n",
              "      <td>4.582397</td>\n",
              "      <td>-15575.874068</td>\n",
              "    </tr>\n",
              "    <tr>\n",
              "      <th>1</th>\n",
              "      <td>4</td>\n",
              "      <td>0</td>\n",
              "      <td>2.681395</td>\n",
              "      <td>1</td>\n",
              "      <td>-6.187869</td>\n",
              "      <td>1.847653</td>\n",
              "      <td>8.035522</td>\n",
              "      <td>-6794.535860</td>\n",
              "    </tr>\n",
              "    <tr>\n",
              "      <th>2</th>\n",
              "      <td>5</td>\n",
              "      <td>0</td>\n",
              "      <td>8.447997</td>\n",
              "      <td>1</td>\n",
              "      <td>-7.270882</td>\n",
              "      <td>-1.529280</td>\n",
              "      <td>5.741602</td>\n",
              "      <td>-24256.843704</td>\n",
              "    </tr>\n",
              "    <tr>\n",
              "      <th>3</th>\n",
              "      <td>6</td>\n",
              "      <td>0</td>\n",
              "      <td>4.157554</td>\n",
              "      <td>1</td>\n",
              "      <td>-8.149810</td>\n",
              "      <td>-3.246318</td>\n",
              "      <td>4.903492</td>\n",
              "      <td>-29955.022787</td>\n",
              "    </tr>\n",
              "    <tr>\n",
              "      <th>4</th>\n",
              "      <td>7</td>\n",
              "      <td>0</td>\n",
              "      <td>2.775867</td>\n",
              "      <td>1</td>\n",
              "      <td>-5.823236</td>\n",
              "      <td>-0.389123</td>\n",
              "      <td>5.434114</td>\n",
              "      <td>-14856.035269</td>\n",
              "    </tr>\n",
              "  </tbody>\n",
              "</table>\n",
              "</div>\n",
              "      <button class=\"colab-df-convert\" onclick=\"convertToInteractive('df-0d6de052-3f28-4732-b1d0-2be2449305ea')\"\n",
              "              title=\"Convert this dataframe to an interactive table.\"\n",
              "              style=\"display:none;\">\n",
              "        \n",
              "  <svg xmlns=\"http://www.w3.org/2000/svg\" height=\"24px\"viewBox=\"0 0 24 24\"\n",
              "       width=\"24px\">\n",
              "    <path d=\"M0 0h24v24H0V0z\" fill=\"none\"/>\n",
              "    <path d=\"M18.56 5.44l.94 2.06.94-2.06 2.06-.94-2.06-.94-.94-2.06-.94 2.06-2.06.94zm-11 1L8.5 8.5l.94-2.06 2.06-.94-2.06-.94L8.5 2.5l-.94 2.06-2.06.94zm10 10l.94 2.06.94-2.06 2.06-.94-2.06-.94-.94-2.06-.94 2.06-2.06.94z\"/><path d=\"M17.41 7.96l-1.37-1.37c-.4-.4-.92-.59-1.43-.59-.52 0-1.04.2-1.43.59L10.3 9.45l-7.72 7.72c-.78.78-.78 2.05 0 2.83L4 21.41c.39.39.9.59 1.41.59.51 0 1.02-.2 1.41-.59l7.78-7.78 2.81-2.81c.8-.78.8-2.07 0-2.86zM5.41 20L4 18.59l7.72-7.72 1.47 1.35L5.41 20z\"/>\n",
              "  </svg>\n",
              "      </button>\n",
              "      \n",
              "  <style>\n",
              "    .colab-df-container {\n",
              "      display:flex;\n",
              "      flex-wrap:wrap;\n",
              "      gap: 12px;\n",
              "    }\n",
              "\n",
              "    .colab-df-convert {\n",
              "      background-color: #E8F0FE;\n",
              "      border: none;\n",
              "      border-radius: 50%;\n",
              "      cursor: pointer;\n",
              "      display: none;\n",
              "      fill: #1967D2;\n",
              "      height: 32px;\n",
              "      padding: 0 0 0 0;\n",
              "      width: 32px;\n",
              "    }\n",
              "\n",
              "    .colab-df-convert:hover {\n",
              "      background-color: #E2EBFA;\n",
              "      box-shadow: 0px 1px 2px rgba(60, 64, 67, 0.3), 0px 1px 3px 1px rgba(60, 64, 67, 0.15);\n",
              "      fill: #174EA6;\n",
              "    }\n",
              "\n",
              "    [theme=dark] .colab-df-convert {\n",
              "      background-color: #3B4455;\n",
              "      fill: #D2E3FC;\n",
              "    }\n",
              "\n",
              "    [theme=dark] .colab-df-convert:hover {\n",
              "      background-color: #434B5C;\n",
              "      box-shadow: 0px 1px 3px 1px rgba(0, 0, 0, 0.15);\n",
              "      filter: drop-shadow(0px 1px 2px rgba(0, 0, 0, 0.3));\n",
              "      fill: #FFFFFF;\n",
              "    }\n",
              "  </style>\n",
              "\n",
              "      <script>\n",
              "        const buttonEl =\n",
              "          document.querySelector('#df-0d6de052-3f28-4732-b1d0-2be2449305ea button.colab-df-convert');\n",
              "        buttonEl.style.display =\n",
              "          google.colab.kernel.accessAllowed ? 'block' : 'none';\n",
              "\n",
              "        async function convertToInteractive(key) {\n",
              "          const element = document.querySelector('#df-0d6de052-3f28-4732-b1d0-2be2449305ea');\n",
              "          const dataTable =\n",
              "            await google.colab.kernel.invokeFunction('convertToInteractive',\n",
              "                                                     [key], {});\n",
              "          if (!dataTable) return;\n",
              "\n",
              "          const docLinkHtml = 'Like what you see? Visit the ' +\n",
              "            '<a target=\"_blank\" href=https://colab.research.google.com/notebooks/data_table.ipynb>data table notebook</a>'\n",
              "            + ' to learn more about interactive tables.';\n",
              "          element.innerHTML = '';\n",
              "          dataTable['output_type'] = 'display_data';\n",
              "          await google.colab.output.renderOutput(dataTable, element);\n",
              "          const docLink = document.createElement('div');\n",
              "          docLink.innerHTML = docLinkHtml;\n",
              "          element.appendChild(docLink);\n",
              "        }\n",
              "      </script>\n",
              "    </div>\n",
              "  </div>\n",
              "  "
            ]
          },
          "metadata": {},
          "execution_count": 20
        }
      ]
    },
    {
      "cell_type": "code",
      "source": [
        "df_properties.info()"
      ],
      "metadata": {
        "colab": {
          "base_uri": "https://localhost:8080/"
        },
        "id": "YucsDVxDrwwX",
        "outputId": "55852524-1c67-410f-b401-60dad6f5e035"
      },
      "execution_count": null,
      "outputs": [
        {
          "output_type": "stream",
          "name": "stdout",
          "text": [
            "<class 'pandas.core.frame.DataFrame'>\n",
            "RangeIndex: 2365700 entries, 0 to 2365699\n",
            "Data columns (total 8 columns):\n",
            " #   Column               Dtype  \n",
            "---  ------               -----  \n",
            " 0   cid                  int64  \n",
            " 1   charge               int64  \n",
            " 2   total_dipole_moment  float64\n",
            " 3   multiplicity         int64  \n",
            " 4   homo                 float64\n",
            " 5   lumo                 float64\n",
            " 6   gap                  float64\n",
            " 7   total_energy         float64\n",
            "dtypes: float64(5), int64(3)\n",
            "memory usage: 144.4 MB\n"
          ]
        }
      ]
    },
    {
      "cell_type": "code",
      "source": [
        "df_properties.isnull().sum()"
      ],
      "metadata": {
        "colab": {
          "base_uri": "https://localhost:8080/"
        },
        "id": "V6Bs7c4Sr6kb",
        "outputId": "e6421352-9025-48b8-93ef-de538915ebb2"
      },
      "execution_count": null,
      "outputs": [
        {
          "output_type": "execute_result",
          "data": {
            "text/plain": [
              "cid                    0\n",
              "charge                 0\n",
              "total_dipole_moment    0\n",
              "multiplicity           0\n",
              "homo                   0\n",
              "lumo                   0\n",
              "gap                    0\n",
              "total_energy           0\n",
              "dtype: int64"
            ]
          },
          "metadata": {},
          "execution_count": 22
        }
      ]
    },
    {
      "cell_type": "code",
      "source": [
        "# PLOTS - Properties\n",
        "fig, axs = plt.subplots(4,2, figsize=(9,7))\n",
        "fig.tight_layout()\n",
        "\n",
        "df_properties['charge'].plot.hist( ax=axs[0,0], title='charge')\n",
        "df_properties['total_dipole_moment'].plot.hist( ax=axs[0,1], title='total_dipole_moment')\n",
        "df_properties['multiplicity'].plot.hist( ax=axs[1,0], title='multiplicity')\n",
        "df_properties['homo'].plot.hist( ax=axs[1,1], title='homo')\n",
        "df_properties['lumo'].plot.hist( ax=axs[2,0], title='lumo')\n",
        "df_properties['gap'].plot.hist( ax=axs[2,1], title='gap')\n",
        "df_properties['total_energy'].plot.hist( ax=axs[3,0], title='total_energy')"
      ],
      "metadata": {
        "colab": {
          "base_uri": "https://localhost:8080/",
          "height": 538
        },
        "id": "Y73WrcukxBlD",
        "outputId": "5f556f7f-3578-4fb2-d0d8-2c05dcf26c1a"
      },
      "execution_count": null,
      "outputs": [
        {
          "output_type": "execute_result",
          "data": {
            "text/plain": [
              "<Axes: title={'center': 'total_energy'}, ylabel='Frequency'>"
            ]
          },
          "metadata": {},
          "execution_count": 23
        },
        {
          "output_type": "display_data",
          "data": {
            "text/plain": [
              "<Figure size 648x504 with 8 Axes>"
            ],
            "image/png": "[encoded data removed]"
          },
          "metadata": {}
        }
      ]
    },
    {
      "cell_type": "markdown",
      "source": [
        "# Df transitions"
      ],
      "metadata": {
        "id": "w591udGPrky8"
      }
    },
    {
      "cell_type": "code",
      "source": [
        "df_transitions.head()"
      ],
      "metadata": {
        "colab": {
          "base_uri": "https://localhost:8080/",
          "height": 302
        },
        "id": "goMBXBYtpt5P",
        "outputId": "ea5487d3-60f3-46bb-dee9-de5d041e1b4b"
      },
      "execution_count": null,
      "outputs": [
        {
          "output_type": "execute_result",
          "data": {
            "text/plain": [
              "         TD_ET_00  TD_OS_00      TD_ET_01  TD_OS_01      TD_ET_02  TD_OS_02  \\\n",
              "cid                                                                           \n",
              "3    32576.410766  0.053438  34937.703709  0.127298  35191.469929  0.035610   \n",
              "4    45133.600212  0.003867  50498.445390  0.022722  52102.569231  0.001101   \n",
              "5    34507.648887  0.001015  41628.443712  0.008713  45462.755074  0.001559   \n",
              "6    30008.462447  0.008708  30033.272061  0.003050  33529.032202  0.020309   \n",
              "7    39855.991961  0.190582  40311.404854  0.020937  42125.119929  0.037105   \n",
              "\n",
              "         TD_ET_03  TD_OS_03      TD_ET_04  TD_OS_04      TD_ET_05  TD_OS_05  \\\n",
              "cid                                                                           \n",
              "3    38959.724483  0.045520  45869.452080  0.002901  46837.502902  0.004995   \n",
              "4    53565.199229  0.044094  54291.396641  0.024346  58571.208342  0.009868   \n",
              "5    46943.403498  0.000598  48366.754296  0.003638  50735.499802  0.000874   \n",
              "6    33901.611955  0.001681  34123.341833  0.005520  35756.461306  0.200556   \n",
              "7    43694.465144  0.011508  45023.182910  0.001745  45422.403156  0.002244   \n",
              "\n",
              "         TD_ET_06  TD_OS_06      TD_ET_07  TD_OS_07      TD_ET_08  TD_OS_08  \\\n",
              "cid                                                                           \n",
              "3    48214.775245  0.008408  48851.170886  0.003279  50890.898644  0.046370   \n",
              "4    60147.530252  0.014954  60319.624771  0.008397  60994.089781  0.004093   \n",
              "5    53071.087855  0.009599  54805.905776  0.025285  54979.815042  0.000488   \n",
              "6    36520.961987  0.046772  38970.830737  0.019129  39701.819082  0.000927   \n",
              "7    47443.717276  0.000626  48595.614115  0.159045  48912.840038  0.016330   \n",
              "\n",
              "         TD_ET_09  TD_OS_09  \n",
              "cid                          \n",
              "3    51729.941085  0.009966  \n",
              "4    62458.026397  0.000847  \n",
              "5    55740.210361  0.013173  \n",
              "6    40475.820974  0.073291  \n",
              "7    49181.261352  0.015406  "
            ],
            "text/html": [
              "\n",
              "  <div id=\"df-1da94ba2-59f4-44cb-852b-c103ac1fa7ae\">\n",
              "    <div class=\"colab-df-container\">\n",
              "      <div>\n",
              "<style scoped>\n",
              "    .dataframe tbody tr th:only-of-type {\n",
              "        vertical-align: middle;\n",
              "    }\n",
              "\n",
              "    .dataframe tbody tr th {\n",
              "        vertical-align: top;\n",
              "    }\n",
              "\n",
              "    .dataframe thead th {\n",
              "        text-align: right;\n",
              "    }\n",
              "</style>\n",
              "<table border=\"1\" class=\"dataframe\">\n",
              "  <thead>\n",
              "    <tr style=\"text-align: right;\">\n",
              "      <th></th>\n",
              "      <th>TD_ET_00</th>\n",
              "      <th>TD_OS_00</th>\n",
              "      <th>TD_ET_01</th>\n",
              "      <th>TD_OS_01</th>\n",
              "      <th>TD_ET_02</th>\n",
              "      <th>TD_OS_02</th>\n",
              "      <th>TD_ET_03</th>\n",
              "      <th>TD_OS_03</th>\n",
              "      <th>TD_ET_04</th>\n",
              "      <th>TD_OS_04</th>\n",
              "      <th>TD_ET_05</th>\n",
              "      <th>TD_OS_05</th>\n",
              "      <th>TD_ET_06</th>\n",
              "      <th>TD_OS_06</th>\n",
              "      <th>TD_ET_07</th>\n",
              "      <th>TD_OS_07</th>\n",
              "      <th>TD_ET_08</th>\n",
              "      <th>TD_OS_08</th>\n",
              "      <th>TD_ET_09</th>\n",
              "      <th>TD_OS_09</th>\n",
              "    </tr>\n",
              "    <tr>\n",
              "      <th>cid</th>\n",
              "      <th></th>\n",
              "      <th></th>\n",
              "      <th></th>\n",
              "      <th></th>\n",
              "      <th></th>\n",
              "      <th></th>\n",
              "      <th></th>\n",
              "      <th></th>\n",
              "      <th></th>\n",
              "      <th></th>\n",
              "      <th></th>\n",
              "      <th></th>\n",
              "      <th></th>\n",
              "      <th></th>\n",
              "      <th></th>\n",
              "      <th></th>\n",
              "      <th></th>\n",
              "      <th></th>\n",
              "      <th></th>\n",
              "      <th></th>\n",
              "    </tr>\n",
              "  </thead>\n",
              "  <tbody>\n",
              "    <tr>\n",
              "      <th>3</th>\n",
              "      <td>32576.410766</td>\n",
              "      <td>0.053438</td>\n",
              "      <td>34937.703709</td>\n",
              "      <td>0.127298</td>\n",
              "      <td>35191.469929</td>\n",
              "      <td>0.035610</td>\n",
              "      <td>38959.724483</td>\n",
              "      <td>0.045520</td>\n",
              "      <td>45869.452080</td>\n",
              "      <td>0.002901</td>\n",
              "      <td>46837.502902</td>\n",
              "      <td>0.004995</td>\n",
              "      <td>48214.775245</td>\n",
              "      <td>0.008408</td>\n",
              "      <td>48851.170886</td>\n",
              "      <td>0.003279</td>\n",
              "      <td>50890.898644</td>\n",
              "      <td>0.046370</td>\n",
              "      <td>51729.941085</td>\n",
              "      <td>0.009966</td>\n",
              "    </tr>\n",
              "    <tr>\n",
              "      <th>4</th>\n",
              "      <td>45133.600212</td>\n",
              "      <td>0.003867</td>\n",
              "      <td>50498.445390</td>\n",
              "      <td>0.022722</td>\n",
              "      <td>52102.569231</td>\n",
              "      <td>0.001101</td>\n",
              "      <td>53565.199229</td>\n",
              "      <td>0.044094</td>\n",
              "      <td>54291.396641</td>\n",
              "      <td>0.024346</td>\n",
              "      <td>58571.208342</td>\n",
              "      <td>0.009868</td>\n",
              "      <td>60147.530252</td>\n",
              "      <td>0.014954</td>\n",
              "      <td>60319.624771</td>\n",
              "      <td>0.008397</td>\n",
              "      <td>60994.089781</td>\n",
              "      <td>0.004093</td>\n",
              "      <td>62458.026397</td>\n",
              "      <td>0.000847</td>\n",
              "    </tr>\n",
              "    <tr>\n",
              "      <th>5</th>\n",
              "      <td>34507.648887</td>\n",
              "      <td>0.001015</td>\n",
              "      <td>41628.443712</td>\n",
              "      <td>0.008713</td>\n",
              "      <td>45462.755074</td>\n",
              "      <td>0.001559</td>\n",
              "      <td>46943.403498</td>\n",
              "      <td>0.000598</td>\n",
              "      <td>48366.754296</td>\n",
              "      <td>0.003638</td>\n",
              "      <td>50735.499802</td>\n",
              "      <td>0.000874</td>\n",
              "      <td>53071.087855</td>\n",
              "      <td>0.009599</td>\n",
              "      <td>54805.905776</td>\n",
              "      <td>0.025285</td>\n",
              "      <td>54979.815042</td>\n",
              "      <td>0.000488</td>\n",
              "      <td>55740.210361</td>\n",
              "      <td>0.013173</td>\n",
              "    </tr>\n",
              "    <tr>\n",
              "      <th>6</th>\n",
              "      <td>30008.462447</td>\n",
              "      <td>0.008708</td>\n",
              "      <td>30033.272061</td>\n",
              "      <td>0.003050</td>\n",
              "      <td>33529.032202</td>\n",
              "      <td>0.020309</td>\n",
              "      <td>33901.611955</td>\n",
              "      <td>0.001681</td>\n",
              "      <td>34123.341833</td>\n",
              "      <td>0.005520</td>\n",
              "      <td>35756.461306</td>\n",
              "      <td>0.200556</td>\n",
              "      <td>36520.961987</td>\n",
              "      <td>0.046772</td>\n",
              "      <td>38970.830737</td>\n",
              "      <td>0.019129</td>\n",
              "      <td>39701.819082</td>\n",
              "      <td>0.000927</td>\n",
              "      <td>40475.820974</td>\n",
              "      <td>0.073291</td>\n",
              "    </tr>\n",
              "    <tr>\n",
              "      <th>7</th>\n",
              "      <td>39855.991961</td>\n",
              "      <td>0.190582</td>\n",
              "      <td>40311.404854</td>\n",
              "      <td>0.020937</td>\n",
              "      <td>42125.119929</td>\n",
              "      <td>0.037105</td>\n",
              "      <td>43694.465144</td>\n",
              "      <td>0.011508</td>\n",
              "      <td>45023.182910</td>\n",
              "      <td>0.001745</td>\n",
              "      <td>45422.403156</td>\n",
              "      <td>0.002244</td>\n",
              "      <td>47443.717276</td>\n",
              "      <td>0.000626</td>\n",
              "      <td>48595.614115</td>\n",
              "      <td>0.159045</td>\n",
              "      <td>48912.840038</td>\n",
              "      <td>0.016330</td>\n",
              "      <td>49181.261352</td>\n",
              "      <td>0.015406</td>\n",
              "    </tr>\n",
              "  </tbody>\n",
              "</table>\n",
              "</div>\n",
              "      <button class=\"colab-df-convert\" onclick=\"convertToInteractive('df-1da94ba2-59f4-44cb-852b-c103ac1fa7ae')\"\n",
              "              title=\"Convert this dataframe to an interactive table.\"\n",
              "              style=\"display:none;\">\n",
              "        \n",
              "  <svg xmlns=\"http://www.w3.org/2000/svg\" height=\"24px\"viewBox=\"0 0 24 24\"\n",
              "       width=\"24px\">\n",
              "    <path d=\"M0 0h24v24H0V0z\" fill=\"none\"/>\n",
              "    <path d=\"M18.56 5.44l.94 2.06.94-2.06 2.06-.94-2.06-.94-.94-2.06-.94 2.06-2.06.94zm-11 1L8.5 8.5l.94-2.06 2.06-.94-2.06-.94L8.5 2.5l-.94 2.06-2.06.94zm10 10l.94 2.06.94-2.06 2.06-.94-2.06-.94-.94-2.06-.94 2.06-2.06.94z\"/><path d=\"M17.41 7.96l-1.37-1.37c-.4-.4-.92-.59-1.43-.59-.52 0-1.04.2-1.43.59L10.3 9.45l-7.72 7.72c-.78.78-.78 2.05 0 2.83L4 21.41c.39.39.9.59 1.41.59.51 0 1.02-.2 1.41-.59l7.78-7.78 2.81-2.81c.8-.78.8-2.07 0-2.86zM5.41 20L4 18.59l7.72-7.72 1.47 1.35L5.41 20z\"/>\n",
              "  </svg>\n",
              "      </button>\n",
              "      \n",
              "  <style>\n",
              "    .colab-df-container {\n",
              "      display:flex;\n",
              "      flex-wrap:wrap;\n",
              "      gap: 12px;\n",
              "    }\n",
              "\n",
              "    .colab-df-convert {\n",
              "      background-color: #E8F0FE;\n",
              "      border: none;\n",
              "      border-radius: 50%;\n",
              "      cursor: pointer;\n",
              "      display: none;\n",
              "      fill: #1967D2;\n",
              "      height: 32px;\n",
              "      padding: 0 0 0 0;\n",
              "      width: 32px;\n",
              "    }\n",
              "\n",
              "    .colab-df-convert:hover {\n",
              "      background-color: #E2EBFA;\n",
              "      box-shadow: 0px 1px 2px rgba(60, 64, 67, 0.3), 0px 1px 3px 1px rgba(60, 64, 67, 0.15);\n",
              "      fill: #174EA6;\n",
              "    }\n",
              "\n",
              "    [theme=dark] .colab-df-convert {\n",
              "      background-color: #3B4455;\n",
              "      fill: #D2E3FC;\n",
              "    }\n",
              "\n",
              "    [theme=dark] .colab-df-convert:hover {\n",
              "      background-color: #434B5C;\n",
              "      box-shadow: 0px 1px 3px 1px rgba(0, 0, 0, 0.15);\n",
              "      filter: drop-shadow(0px 1px 2px rgba(0, 0, 0, 0.3));\n",
              "      fill: #FFFFFF;\n",
              "    }\n",
              "  </style>\n",
              "\n",
              "      <script>\n",
              "        const buttonEl =\n",
              "          document.querySelector('#df-1da94ba2-59f4-44cb-852b-c103ac1fa7ae button.colab-df-convert');\n",
              "        buttonEl.style.display =\n",
              "          google.colab.kernel.accessAllowed ? 'block' : 'none';\n",
              "\n",
              "        async function convertToInteractive(key) {\n",
              "          const element = document.querySelector('#df-1da94ba2-59f4-44cb-852b-c103ac1fa7ae');\n",
              "          const dataTable =\n",
              "            await google.colab.kernel.invokeFunction('convertToInteractive',\n",
              "                                                     [key], {});\n",
              "          if (!dataTable) return;\n",
              "\n",
              "          const docLinkHtml = 'Like what you see? Visit the ' +\n",
              "            '<a target=\"_blank\" href=https://colab.research.google.com/notebooks/data_table.ipynb>data table notebook</a>'\n",
              "            + ' to learn more about interactive tables.';\n",
              "          element.innerHTML = '';\n",
              "          dataTable['output_type'] = 'display_data';\n",
              "          await google.colab.output.renderOutput(dataTable, element);\n",
              "          const docLink = document.createElement('div');\n",
              "          docLink.innerHTML = docLinkHtml;\n",
              "          element.appendChild(docLink);\n",
              "        }\n",
              "      </script>\n",
              "    </div>\n",
              "  </div>\n",
              "  "
            ]
          },
          "metadata": {},
          "execution_count": 24
        }
      ]
    },
    {
      "cell_type": "code",
      "source": [
        "df_transitions = df_transitions.reset_index()"
      ],
      "metadata": {
        "id": "Vq2QwsThw39D"
      },
      "execution_count": null,
      "outputs": []
    },
    {
      "cell_type": "code",
      "source": [
        "df_transitions.shape"
      ],
      "metadata": {
        "colab": {
          "base_uri": "https://localhost:8080/"
        },
        "id": "zQkanBAbrodZ",
        "outputId": "312c1f34-ce6d-4d6d-83ac-480c39a596be"
      },
      "execution_count": null,
      "outputs": [
        {
          "output_type": "execute_result",
          "data": {
            "text/plain": [
              "(2365313, 21)"
            ]
          },
          "metadata": {},
          "execution_count": 26
        }
      ]
    },
    {
      "cell_type": "code",
      "source": [
        "df_transitions.info()"
      ],
      "metadata": {
        "colab": {
          "base_uri": "https://localhost:8080/"
        },
        "id": "B53A08onrqy2",
        "outputId": "1e2c8b59-3c78-459b-c926-12d83dc2a73b"
      },
      "execution_count": null,
      "outputs": [
        {
          "output_type": "stream",
          "name": "stdout",
          "text": [
            "<class 'pandas.core.frame.DataFrame'>\n",
            "RangeIndex: 2365313 entries, 0 to 2365312\n",
            "Data columns (total 21 columns):\n",
            " #   Column    Dtype  \n",
            "---  ------    -----  \n",
            " 0   cid       int64  \n",
            " 1   TD_ET_00  float64\n",
            " 2   TD_OS_00  float64\n",
            " 3   TD_ET_01  float64\n",
            " 4   TD_OS_01  float64\n",
            " 5   TD_ET_02  float64\n",
            " 6   TD_OS_02  float64\n",
            " 7   TD_ET_03  float64\n",
            " 8   TD_OS_03  float64\n",
            " 9   TD_ET_04  float64\n",
            " 10  TD_OS_04  float64\n",
            " 11  TD_ET_05  float64\n",
            " 12  TD_OS_05  float64\n",
            " 13  TD_ET_06  float64\n",
            " 14  TD_OS_06  float64\n",
            " 15  TD_ET_07  float64\n",
            " 16  TD_OS_07  float64\n",
            " 17  TD_ET_08  float64\n",
            " 18  TD_OS_08  float64\n",
            " 19  TD_ET_09  float64\n",
            " 20  TD_OS_09  float64\n",
            "dtypes: float64(20), int64(1)\n",
            "memory usage: 379.0 MB\n"
          ]
        }
      ]
    },
    {
      "cell_type": "code",
      "source": [
        "df_transitions.isnull().sum()"
      ],
      "metadata": {
        "colab": {
          "base_uri": "https://localhost:8080/"
        },
        "id": "UwJbJcN1sKX_",
        "outputId": "0aa24054-2d49-4bbc-c851-c0d8feb055bd"
      },
      "execution_count": null,
      "outputs": [
        {
          "output_type": "execute_result",
          "data": {
            "text/plain": [
              "cid          0\n",
              "TD_ET_00     0\n",
              "TD_OS_00     1\n",
              "TD_ET_01     4\n",
              "TD_OS_01     5\n",
              "TD_ET_02     4\n",
              "TD_OS_02     5\n",
              "TD_ET_03     4\n",
              "TD_OS_03     5\n",
              "TD_ET_04     8\n",
              "TD_OS_04     9\n",
              "TD_ET_05    11\n",
              "TD_OS_05    11\n",
              "TD_ET_06    11\n",
              "TD_OS_06    11\n",
              "TD_ET_07    11\n",
              "TD_OS_07    11\n",
              "TD_ET_08    11\n",
              "TD_OS_08    11\n",
              "TD_ET_09    21\n",
              "TD_OS_09    21\n",
              "dtype: int64"
            ]
          },
          "metadata": {},
          "execution_count": 28
        }
      ]
    },
    {
      "cell_type": "code",
      "source": [
        "# PLOTS - Excitation energies\n",
        "fig, axs = plt.subplots(5,2, figsize=(10,8))\n",
        "fig.tight_layout()\n",
        "\n",
        "df_transitions['TD_ET_00'].plot.hist( ax=axs[0,0])\n",
        "df_transitions['TD_ET_01'].plot.hist( ax=axs[0,1])\n",
        "df_transitions['TD_ET_02'].plot.hist( ax=axs[1,0])\n",
        "df_transitions['TD_ET_03'].plot.hist( ax=axs[1,1])\n",
        "df_transitions['TD_ET_04'].plot.hist( ax=axs[2,0])\n",
        "df_transitions['TD_ET_05'].plot.hist( ax=axs[2,1])\n",
        "df_transitions['TD_ET_06'].plot.hist( ax=axs[3,0])\n",
        "df_transitions['TD_ET_07'].plot.hist( ax=axs[3,1])\n",
        "df_transitions['TD_ET_08'].plot.hist( ax=axs[4,0])\n",
        "df_transitions['TD_ET_09'].plot.hist( ax=axs[4,1])"
      ],
      "metadata": {
        "colab": {
          "base_uri": "https://localhost:8080/",
          "height": 605
        },
        "id": "EI7P9WY5tdmM",
        "outputId": "f1c25c7f-f111-4f64-f2f8-6af541714aec"
      },
      "execution_count": null,
      "outputs": [
        {
          "output_type": "execute_result",
          "data": {
            "text/plain": [
              "<Axes: ylabel='Frequency'>"
            ]
          },
          "metadata": {},
          "execution_count": 29
        },
        {
          "output_type": "display_data",
          "data": {
            "text/plain": [
              "<Figure size 720x576 with 10 Axes>"
            ],
            "image/png": "[encoded data removed]"
          },
          "metadata": {}
        }
      ]
    },
    {
      "cell_type": "code",
      "source": [
        "# PLOTS - Oscillator forces\n",
        "fig, axs = plt.subplots(5,2, figsize=(10,8))\n",
        "fig.tight_layout()\n",
        "\n",
        "df_transitions['TD_OS_00'].plot.hist( ax=axs[0,0])\n",
        "df_transitions['TD_OS_01'].plot.hist( ax=axs[0,1])\n",
        "df_transitions['TD_OS_02'].plot.hist( ax=axs[1,0])\n",
        "df_transitions['TD_OS_03'].plot.hist( ax=axs[1,1])\n",
        "df_transitions['TD_OS_04'].plot.hist( ax=axs[2,0])\n",
        "df_transitions['TD_OS_05'].plot.hist( ax=axs[2,1])\n",
        "df_transitions['TD_OS_06'].plot.hist( ax=axs[3,0])\n",
        "df_transitions['TD_OS_07'].plot.hist( ax=axs[3,1])\n",
        "df_transitions['TD_OS_08'].plot.hist( ax=axs[4,0])\n",
        "df_transitions['TD_OS_09'].plot.hist( ax=axs[4,1])"
      ],
      "metadata": {
        "colab": {
          "base_uri": "https://localhost:8080/",
          "height": 605
        },
        "id": "MGQHFf62v3Gy",
        "outputId": "54656fb8-69c0-4210-e522-020124c53c5a"
      },
      "execution_count": null,
      "outputs": [
        {
          "output_type": "execute_result",
          "data": {
            "text/plain": [
              "<Axes: ylabel='Frequency'>"
            ]
          },
          "metadata": {},
          "execution_count": 30
        },
        {
          "output_type": "display_data",
          "data": {
            "text/plain": [
              "<Figure size 720x576 with 10 Axes>"
            ],
            "image/png": "[encoded data removed]"
          },
          "metadata": {}
        }
      ]
    },
    {
      "cell_type": "markdown",
      "source": [
        "# Joining datasets \n",
        "\n",
        "per cid index"
      ],
      "metadata": {
        "id": "jO0Zy0UNwIZL"
      }
    },
    {
      "cell_type": "code",
      "source": [
        "df_smiles = df_smiles.set_index('cid')\n",
        "df_properties = df_properties.set_index('cid')\n",
        "df_transitions = df_transitions.set_index('cid')"
      ],
      "metadata": {
        "id": "7t8QvqUCt9rp"
      },
      "execution_count": null,
      "outputs": []
    },
    {
      "cell_type": "code",
      "source": [
        "df_joined = df_smiles.join((df_properties.join(df_transitions, on='cid', how='left')), on='cid', how='left')"
      ],
      "metadata": {
        "id": "ZF1xWexbwUrS"
      },
      "execution_count": null,
      "outputs": []
    },
    {
      "cell_type": "code",
      "source": [
        "df_joined.head()"
      ],
      "metadata": {
        "colab": {
          "base_uri": "https://localhost:8080/",
          "height": 371
        },
        "id": "ppxjs5xryaa6",
        "outputId": "fbdb403d-dc24-47d1-ff0a-ff4a4b6cefbf"
      },
      "execution_count": null,
      "outputs": [
        {
          "output_type": "execute_result",
          "data": {
            "text/plain": [
              "                                     smiles smiles source  charge  \\\n",
              "cid                                                                 \n",
              "3              O=C(O)C1=CC=C[C@H](O)[C@H]1O     PubChemQC       0   \n",
              "4                               C[C@H](O)CN     PubChemQC       0   \n",
              "5                        NCC(=O)COP(=O)(O)O     PubChemQC       0   \n",
              "6    O=[N+]([O-])c1ccc(Cl)c([N+](=O)[O-])c1     PubChemQC       0   \n",
              "7                        CCn1cnc2c(N)ncnc21     PubChemQC       0   \n",
              "\n",
              "     total_dipole_moment  multiplicity      homo      lumo       gap  \\\n",
              "cid                                                                    \n",
              "3               5.266252             1 -6.821894 -2.239497  4.582397   \n",
              "4               2.681395             1 -6.187869  1.847653  8.035522   \n",
              "5               8.447997             1 -7.270882 -1.529280  5.741602   \n",
              "6               4.157554             1 -8.149810 -3.246318  4.903492   \n",
              "7               2.775867             1 -5.823236 -0.389123  5.434114   \n",
              "\n",
              "     total_energy      TD_ET_00  TD_OS_00      TD_ET_01  TD_OS_01  \\\n",
              "cid                                                                 \n",
              "3   -15575.874068  32576.410766  0.053438  34937.703709  0.127298   \n",
              "4    -6794.535860  45133.600212  0.003867  50498.445390  0.022722   \n",
              "5   -24256.843704  34507.648887  0.001015  41628.443712  0.008713   \n",
              "6   -29955.022787  30008.462447  0.008708  30033.272061  0.003050   \n",
              "7   -14856.035269  39855.991961  0.190582  40311.404854  0.020937   \n",
              "\n",
              "         TD_ET_02  TD_OS_02      TD_ET_03  TD_OS_03      TD_ET_04  TD_OS_04  \\\n",
              "cid                                                                           \n",
              "3    35191.469929  0.035610  38959.724483  0.045520  45869.452080  0.002901   \n",
              "4    52102.569231  0.001101  53565.199229  0.044094  54291.396641  0.024346   \n",
              "5    45462.755074  0.001559  46943.403498  0.000598  48366.754296  0.003638   \n",
              "6    33529.032202  0.020309  33901.611955  0.001681  34123.341833  0.005520   \n",
              "7    42125.119929  0.037105  43694.465144  0.011508  45023.182910  0.001745   \n",
              "\n",
              "         TD_ET_05  TD_OS_05      TD_ET_06  TD_OS_06      TD_ET_07  TD_OS_07  \\\n",
              "cid                                                                           \n",
              "3    46837.502902  0.004995  48214.775245  0.008408  48851.170886  0.003279   \n",
              "4    58571.208342  0.009868  60147.530252  0.014954  60319.624771  0.008397   \n",
              "5    50735.499802  0.000874  53071.087855  0.009599  54805.905776  0.025285   \n",
              "6    35756.461306  0.200556  36520.961987  0.046772  38970.830737  0.019129   \n",
              "7    45422.403156  0.002244  47443.717276  0.000626  48595.614115  0.159045   \n",
              "\n",
              "         TD_ET_08  TD_OS_08      TD_ET_09  TD_OS_09  \n",
              "cid                                                  \n",
              "3    50890.898644  0.046370  51729.941085  0.009966  \n",
              "4    60994.089781  0.004093  62458.026397  0.000847  \n",
              "5    54979.815042  0.000488  55740.210361  0.013173  \n",
              "6    39701.819082  0.000927  40475.820974  0.073291  \n",
              "7    48912.840038  0.016330  49181.261352  0.015406  "
            ],
            "text/html": [
              "\n",
              "  <div id=\"df-95e67419-95ad-4e04-8651-87d8f96ccaca\">\n",
              "    <div class=\"colab-df-container\">\n",
              "      <div>\n",
              "<style scoped>\n",
              "    .dataframe tbody tr th:only-of-type {\n",
              "        vertical-align: middle;\n",
              "    }\n",
              "\n",
              "    .dataframe tbody tr th {\n",
              "        vertical-align: top;\n",
              "    }\n",
              "\n",
              "    .dataframe thead th {\n",
              "        text-align: right;\n",
              "    }\n",
              "</style>\n",
              "<table border=\"1\" class=\"dataframe\">\n",
              "  <thead>\n",
              "    <tr style=\"text-align: right;\">\n",
              "      <th></th>\n",
              "      <th>smiles</th>\n",
              "      <th>smiles source</th>\n",
              "      <th>charge</th>\n",
              "      <th>total_dipole_moment</th>\n",
              "      <th>multiplicity</th>\n",
              "      <th>homo</th>\n",
              "      <th>lumo</th>\n",
              "      <th>gap</th>\n",
              "      <th>total_energy</th>\n",
              "      <th>TD_ET_00</th>\n",
              "      <th>TD_OS_00</th>\n",
              "      <th>TD_ET_01</th>\n",
              "      <th>TD_OS_01</th>\n",
              "      <th>TD_ET_02</th>\n",
              "      <th>TD_OS_02</th>\n",
              "      <th>TD_ET_03</th>\n",
              "      <th>TD_OS_03</th>\n",
              "      <th>TD_ET_04</th>\n",
              "      <th>TD_OS_04</th>\n",
              "      <th>TD_ET_05</th>\n",
              "      <th>TD_OS_05</th>\n",
              "      <th>TD_ET_06</th>\n",
              "      <th>TD_OS_06</th>\n",
              "      <th>TD_ET_07</th>\n",
              "      <th>TD_OS_07</th>\n",
              "      <th>TD_ET_08</th>\n",
              "      <th>TD_OS_08</th>\n",
              "      <th>TD_ET_09</th>\n",
              "      <th>TD_OS_09</th>\n",
              "    </tr>\n",
              "    <tr>\n",
              "      <th>cid</th>\n",
              "      <th></th>\n",
              "      <th></th>\n",
              "      <th></th>\n",
              "      <th></th>\n",
              "      <th></th>\n",
              "      <th></th>\n",
              "      <th></th>\n",
              "      <th></th>\n",
              "      <th></th>\n",
              "      <th></th>\n",
              "      <th></th>\n",
              "      <th></th>\n",
              "      <th></th>\n",
              "      <th></th>\n",
              "      <th></th>\n",
              "      <th></th>\n",
              "      <th></th>\n",
              "      <th></th>\n",
              "      <th></th>\n",
              "      <th></th>\n",
              "      <th></th>\n",
              "      <th></th>\n",
              "      <th></th>\n",
              "      <th></th>\n",
              "      <th></th>\n",
              "      <th></th>\n",
              "      <th></th>\n",
              "      <th></th>\n",
              "      <th></th>\n",
              "    </tr>\n",
              "  </thead>\n",
              "  <tbody>\n",
              "    <tr>\n",
              "      <th>3</th>\n",
              "      <td>O=C(O)C1=CC=C[C@H](O)[C@H]1O</td>\n",
              "      <td>PubChemQC</td>\n",
              "      <td>0</td>\n",
              "      <td>5.266252</td>\n",
              "      <td>1</td>\n",
              "      <td>-6.821894</td>\n",
              "      <td>-2.239497</td>\n",
              "      <td>4.582397</td>\n",
              "      <td>-15575.874068</td>\n",
              "      <td>32576.410766</td>\n",
              "      <td>0.053438</td>\n",
              "      <td>34937.703709</td>\n",
              "      <td>0.127298</td>\n",
              "      <td>35191.469929</td>\n",
              "      <td>0.035610</td>\n",
              "      <td>38959.724483</td>\n",
              "      <td>0.045520</td>\n",
              "      <td>45869.452080</td>\n",
              "      <td>0.002901</td>\n",
              "      <td>46837.502902</td>\n",
              "      <td>0.004995</td>\n",
              "      <td>48214.775245</td>\n",
              "      <td>0.008408</td>\n",
              "      <td>48851.170886</td>\n",
              "      <td>0.003279</td>\n",
              "      <td>50890.898644</td>\n",
              "      <td>0.046370</td>\n",
              "      <td>51729.941085</td>\n",
              "      <td>0.009966</td>\n",
              "    </tr>\n",
              "    <tr>\n",
              "      <th>4</th>\n",
              "      <td>C[C@H](O)CN</td>\n",
              "      <td>PubChemQC</td>\n",
              "      <td>0</td>\n",
              "      <td>2.681395</td>\n",
              "      <td>1</td>\n",
              "      <td>-6.187869</td>\n",
              "      <td>1.847653</td>\n",
              "      <td>8.035522</td>\n",
              "      <td>-6794.535860</td>\n",
              "      <td>45133.600212</td>\n",
              "      <td>0.003867</td>\n",
              "      <td>50498.445390</td>\n",
              "      <td>0.022722</td>\n",
              "      <td>52102.569231</td>\n",
              "      <td>0.001101</td>\n",
              "      <td>53565.199229</td>\n",
              "      <td>0.044094</td>\n",
              "      <td>54291.396641</td>\n",
              "      <td>0.024346</td>\n",
              "      <td>58571.208342</td>\n",
              "      <td>0.009868</td>\n",
              "      <td>60147.530252</td>\n",
              "      <td>0.014954</td>\n",
              "      <td>60319.624771</td>\n",
              "      <td>0.008397</td>\n",
              "      <td>60994.089781</td>\n",
              "      <td>0.004093</td>\n",
              "      <td>62458.026397</td>\n",
              "      <td>0.000847</td>\n",
              "    </tr>\n",
              "    <tr>\n",
              "      <th>5</th>\n",
              "      <td>NCC(=O)COP(=O)(O)O</td>\n",
              "      <td>PubChemQC</td>\n",
              "      <td>0</td>\n",
              "      <td>8.447997</td>\n",
              "      <td>1</td>\n",
              "      <td>-7.270882</td>\n",
              "      <td>-1.529280</td>\n",
              "      <td>5.741602</td>\n",
              "      <td>-24256.843704</td>\n",
              "      <td>34507.648887</td>\n",
              "      <td>0.001015</td>\n",
              "      <td>41628.443712</td>\n",
              "      <td>0.008713</td>\n",
              "      <td>45462.755074</td>\n",
              "      <td>0.001559</td>\n",
              "      <td>46943.403498</td>\n",
              "      <td>0.000598</td>\n",
              "      <td>48366.754296</td>\n",
              "      <td>0.003638</td>\n",
              "      <td>50735.499802</td>\n",
              "      <td>0.000874</td>\n",
              "      <td>53071.087855</td>\n",
              "      <td>0.009599</td>\n",
              "      <td>54805.905776</td>\n",
              "      <td>0.025285</td>\n",
              "      <td>54979.815042</td>\n",
              "      <td>0.000488</td>\n",
              "      <td>55740.210361</td>\n",
              "      <td>0.013173</td>\n",
              "    </tr>\n",
              "    <tr>\n",
              "      <th>6</th>\n",
              "      <td>O=[N+]([O-])c1ccc(Cl)c([N+](=O)[O-])c1</td>\n",
              "      <td>PubChemQC</td>\n",
              "      <td>0</td>\n",
              "      <td>4.157554</td>\n",
              "      <td>1</td>\n",
              "      <td>-8.149810</td>\n",
              "      <td>-3.246318</td>\n",
              "      <td>4.903492</td>\n",
              "      <td>-29955.022787</td>\n",
              "      <td>30008.462447</td>\n",
              "      <td>0.008708</td>\n",
              "      <td>30033.272061</td>\n",
              "      <td>0.003050</td>\n",
              "      <td>33529.032202</td>\n",
              "      <td>0.020309</td>\n",
              "      <td>33901.611955</td>\n",
              "      <td>0.001681</td>\n",
              "      <td>34123.341833</td>\n",
              "      <td>0.005520</td>\n",
              "      <td>35756.461306</td>\n",
              "      <td>0.200556</td>\n",
              "      <td>36520.961987</td>\n",
              "      <td>0.046772</td>\n",
              "      <td>38970.830737</td>\n",
              "      <td>0.019129</td>\n",
              "      <td>39701.819082</td>\n",
              "      <td>0.000927</td>\n",
              "      <td>40475.820974</td>\n",
              "      <td>0.073291</td>\n",
              "    </tr>\n",
              "    <tr>\n",
              "      <th>7</th>\n",
              "      <td>CCn1cnc2c(N)ncnc21</td>\n",
              "      <td>PubChemQC</td>\n",
              "      <td>0</td>\n",
              "      <td>2.775867</td>\n",
              "      <td>1</td>\n",
              "      <td>-5.823236</td>\n",
              "      <td>-0.389123</td>\n",
              "      <td>5.434114</td>\n",
              "      <td>-14856.035269</td>\n",
              "      <td>39855.991961</td>\n",
              "      <td>0.190582</td>\n",
              "      <td>40311.404854</td>\n",
              "      <td>0.020937</td>\n",
              "      <td>42125.119929</td>\n",
              "      <td>0.037105</td>\n",
              "      <td>43694.465144</td>\n",
              "      <td>0.011508</td>\n",
              "      <td>45023.182910</td>\n",
              "      <td>0.001745</td>\n",
              "      <td>45422.403156</td>\n",
              "      <td>0.002244</td>\n",
              "      <td>47443.717276</td>\n",
              "      <td>0.000626</td>\n",
              "      <td>48595.614115</td>\n",
              "      <td>0.159045</td>\n",
              "      <td>48912.840038</td>\n",
              "      <td>0.016330</td>\n",
              "      <td>49181.261352</td>\n",
              "      <td>0.015406</td>\n",
              "    </tr>\n",
              "  </tbody>\n",
              "</table>\n",
              "</div>\n",
              "      <button class=\"colab-df-convert\" onclick=\"convertToInteractive('df-95e67419-95ad-4e04-8651-87d8f96ccaca')\"\n",
              "              title=\"Convert this dataframe to an interactive table.\"\n",
              "              style=\"display:none;\">\n",
              "        \n",
              "  <svg xmlns=\"http://www.w3.org/2000/svg\" height=\"24px\"viewBox=\"0 0 24 24\"\n",
              "       width=\"24px\">\n",
              "    <path d=\"M0 0h24v24H0V0z\" fill=\"none\"/>\n",
              "    <path d=\"M18.56 5.44l.94 2.06.94-2.06 2.06-.94-2.06-.94-.94-2.06-.94 2.06-2.06.94zm-11 1L8.5 8.5l.94-2.06 2.06-.94-2.06-.94L8.5 2.5l-.94 2.06-2.06.94zm10 10l.94 2.06.94-2.06 2.06-.94-2.06-.94-.94-2.06-.94 2.06-2.06.94z\"/><path d=\"M17.41 7.96l-1.37-1.37c-.4-.4-.92-.59-1.43-.59-.52 0-1.04.2-1.43.59L10.3 9.45l-7.72 7.72c-.78.78-.78 2.05 0 2.83L4 21.41c.39.39.9.59 1.41.59.51 0 1.02-.2 1.41-.59l7.78-7.78 2.81-2.81c.8-.78.8-2.07 0-2.86zM5.41 20L4 18.59l7.72-7.72 1.47 1.35L5.41 20z\"/>\n",
              "  </svg>\n",
              "      </button>\n",
              "      \n",
              "  <style>\n",
              "    .colab-df-container {\n",
              "      display:flex;\n",
              "      flex-wrap:wrap;\n",
              "      gap: 12px;\n",
              "    }\n",
              "\n",
              "    .colab-df-convert {\n",
              "      background-color: #E8F0FE;\n",
              "      border: none;\n",
              "      border-radius: 50%;\n",
              "      cursor: pointer;\n",
              "      display: none;\n",
              "      fill: #1967D2;\n",
              "      height: 32px;\n",
              "      padding: 0 0 0 0;\n",
              "      width: 32px;\n",
              "    }\n",
              "\n",
              "    .colab-df-convert:hover {\n",
              "      background-color: #E2EBFA;\n",
              "      box-shadow: 0px 1px 2px rgba(60, 64, 67, 0.3), 0px 1px 3px 1px rgba(60, 64, 67, 0.15);\n",
              "      fill: #174EA6;\n",
              "    }\n",
              "\n",
              "    [theme=dark] .colab-df-convert {\n",
              "      background-color: #3B4455;\n",
              "      fill: #D2E3FC;\n",
              "    }\n",
              "\n",
              "    [theme=dark] .colab-df-convert:hover {\n",
              "      background-color: #434B5C;\n",
              "      box-shadow: 0px 1px 3px 1px rgba(0, 0, 0, 0.15);\n",
              "      filter: drop-shadow(0px 1px 2px rgba(0, 0, 0, 0.3));\n",
              "      fill: #FFFFFF;\n",
              "    }\n",
              "  </style>\n",
              "\n",
              "      <script>\n",
              "        const buttonEl =\n",
              "          document.querySelector('#df-95e67419-95ad-4e04-8651-87d8f96ccaca button.colab-df-convert');\n",
              "        buttonEl.style.display =\n",
              "          google.colab.kernel.accessAllowed ? 'block' : 'none';\n",
              "\n",
              "        async function convertToInteractive(key) {\n",
              "          const element = document.querySelector('#df-95e67419-95ad-4e04-8651-87d8f96ccaca');\n",
              "          const dataTable =\n",
              "            await google.colab.kernel.invokeFunction('convertToInteractive',\n",
              "                                                     [key], {});\n",
              "          if (!dataTable) return;\n",
              "\n",
              "          const docLinkHtml = 'Like what you see? Visit the ' +\n",
              "            '<a target=\"_blank\" href=https://colab.research.google.com/notebooks/data_table.ipynb>data table notebook</a>'\n",
              "            + ' to learn more about interactive tables.';\n",
              "          element.innerHTML = '';\n",
              "          dataTable['output_type'] = 'display_data';\n",
              "          await google.colab.output.renderOutput(dataTable, element);\n",
              "          const docLink = document.createElement('div');\n",
              "          docLink.innerHTML = docLinkHtml;\n",
              "          element.appendChild(docLink);\n",
              "        }\n",
              "      </script>\n",
              "    </div>\n",
              "  </div>\n",
              "  "
            ]
          },
          "metadata": {},
          "execution_count": 33
        }
      ]
    },
    {
      "cell_type": "code",
      "source": [
        "df_joined.shape"
      ],
      "metadata": {
        "colab": {
          "base_uri": "https://localhost:8080/"
        },
        "id": "x6dwloi0yzke",
        "outputId": "916937b5-92bc-4b41-f84b-96dbc5345450"
      },
      "execution_count": null,
      "outputs": [
        {
          "output_type": "execute_result",
          "data": {
            "text/plain": [
              "(2365700, 29)"
            ]
          },
          "metadata": {},
          "execution_count": 34
        }
      ]
    },
    {
      "cell_type": "code",
      "source": [
        "df_joined.isnull().sum()"
      ],
      "metadata": {
        "colab": {
          "base_uri": "https://localhost:8080/"
        },
        "id": "VxtsTVuKy244",
        "outputId": "63144c36-3c7c-46c2-a6eb-b85de8a4cc10"
      },
      "execution_count": null,
      "outputs": [
        {
          "output_type": "execute_result",
          "data": {
            "text/plain": [
              "smiles                   0\n",
              "smiles source            0\n",
              "charge                   0\n",
              "total_dipole_moment      0\n",
              "multiplicity             0\n",
              "homo                     0\n",
              "lumo                     0\n",
              "gap                      0\n",
              "total_energy             0\n",
              "TD_ET_00               387\n",
              "TD_OS_00               388\n",
              "TD_ET_01               391\n",
              "TD_OS_01               392\n",
              "TD_ET_02               391\n",
              "TD_OS_02               392\n",
              "TD_ET_03               391\n",
              "TD_OS_03               392\n",
              "TD_ET_04               395\n",
              "TD_OS_04               396\n",
              "TD_ET_05               398\n",
              "TD_OS_05               398\n",
              "TD_ET_06               398\n",
              "TD_OS_06               398\n",
              "TD_ET_07               398\n",
              "TD_OS_07               398\n",
              "TD_ET_08               398\n",
              "TD_OS_08               398\n",
              "TD_ET_09               408\n",
              "TD_OS_09               408\n",
              "dtype: int64"
            ]
          },
          "metadata": {},
          "execution_count": 35
        }
      ]
    },
    {
      "cell_type": "code",
      "source": [
        "df_joined.to_parquet('joined_data.parquet')"
      ],
      "metadata": {
        "id": "oR8mVYYNy6NS"
      },
      "execution_count": null,
      "outputs": []
    }
  ]
}