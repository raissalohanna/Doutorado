{
  "nbformat": 4,
  "nbformat_minor": 0,
  "metadata": {
    "colab": {
      "provenance": [],
      "authorship_tag": "ABX9TyO7zIJe1iaPwTAnuKR11GEx",
      "include_colab_link": true
    },
    "kernelspec": {
      "name": "python3",
      "display_name": "Python 3"
    },
    "language_info": {
      "name": "python"
    }
  },
  "cells": [
    {
      "cell_type": "markdown",
      "metadata": {
        "id": "view-in-github",
        "colab_type": "text"
      },
      "source": [
        "<a href=\"https://colab.research.google.com/github/raissalohanna/Doutorado/blob/main/Anatole_BoB.ipynb\" target=\"_parent\"><img src=\"https://colab.research.google.com/assets/colab-badge.svg\" alt=\"Open In Colab\"/></a>"
      ]
    },
    {
      "cell_type": "markdown",
      "source": [
        "# **Applying the Anatole's descriptor to the new PubChemQC dataset**\n",
        "\n",
        "**Objective**: Make a representation of the molecules using Anatole´s descriptor"
      ],
      "metadata": {
        "id": "cZhWFWgaADlx"
      }
    },
    {
      "cell_type": "markdown",
      "source": [
        "# Drive - Colab configuration"
      ],
      "metadata": {
        "id": "kwn5D8-zkvgo"
      }
    },
    {
      "cell_type": "code",
      "source": [
        "from google.colab import drive\n",
        "drive.mount('/content/drive')"
      ],
      "metadata": {
        "colab": {
          "base_uri": "https://localhost:8080/"
        },
        "id": "FimXpMB1kfPX",
        "outputId": "a1d6f1ba-5752-43f5-a9e8-19e86f5952d9"
      },
      "execution_count": 2,
      "outputs": [
        {
          "output_type": "stream",
          "name": "stdout",
          "text": [
            "Mounted at /content/drive\n"
          ]
        }
      ]
    },
    {
      "cell_type": "code",
      "source": [
        "!pip install rdkit"
      ],
      "metadata": {
        "colab": {
          "base_uri": "https://localhost:8080/"
        },
        "id": "veIjN3dVk03W",
        "outputId": "b8105d81-a248-4858-fb7a-7d3c739d50cd"
      },
      "execution_count": 3,
      "outputs": [
        {
          "output_type": "stream",
          "name": "stdout",
          "text": [
            "Looking in indexes: https://pypi.org/simple, https://us-python.pkg.dev/colab-wheels/public/simple/\n",
            "Collecting rdkit\n",
            "  Downloading rdkit-2022.9.5-cp39-cp39-manylinux_2_17_x86_64.manylinux2014_x86_64.whl (29.4 MB)\n",
            "\u001b[2K     \u001b[90m━━━━━━━━━━━━━━━━━━━━━━━━━━━━━━━━━━━━━━━━\u001b[0m \u001b[32m29.4/29.4 MB\u001b[0m \u001b[31m48.6 MB/s\u001b[0m eta \u001b[36m0:00:00\u001b[0m\n",
            "\u001b[?25hRequirement already satisfied: numpy in /usr/local/lib/python3.9/dist-packages (from rdkit) (1.22.4)\n",
            "Requirement already satisfied: Pillow in /usr/local/lib/python3.9/dist-packages (from rdkit) (8.4.0)\n",
            "Installing collected packages: rdkit\n",
            "Successfully installed rdkit-2022.9.5\n"
          ]
        }
      ]
    },
    {
      "cell_type": "markdown",
      "source": [
        "# Importing libraries and configuration"
      ],
      "metadata": {
        "id": "lcpcQi7ykq9h"
      }
    },
    {
      "cell_type": "code",
      "source": [
        "import numpy as np\n",
        "import pandas as pd\n",
        "import seaborn as sns\n",
        "from rdkit import Chem\n",
        "import matplotlib.pyplot as plt"
      ],
      "metadata": {
        "id": "Un-LWg4rkzFq"
      },
      "execution_count": 4,
      "outputs": []
    },
    {
      "cell_type": "code",
      "source": [
        "from tqdm import tqdm"
      ],
      "metadata": {
        "id": "zMiFRyNTk4MD"
      },
      "execution_count": 5,
      "outputs": []
    },
    {
      "cell_type": "code",
      "source": [
        "pd.set_option('display.max_columns', None)"
      ],
      "metadata": {
        "id": "fOgcAAPok4rf"
      },
      "execution_count": 6,
      "outputs": []
    },
    {
      "cell_type": "code",
      "source": [
        "sns.set_theme(style=\"darkgrid\", palette=\"husl\", rc={\"figure.figsize\":(10, 5)})"
      ],
      "metadata": {
        "id": "2--FokONk6Wi"
      },
      "execution_count": 7,
      "outputs": []
    },
    {
      "cell_type": "markdown",
      "source": [
        "Load data"
      ],
      "metadata": {
        "id": "_Wb5SqABlHS6"
      }
    },
    {
      "cell_type": "code",
      "source": [
        "df = pd.read_parquet(\"/content/drive/MyDrive/Colab Notebooks/Doutorado/PubchemQC_nova_base/joined_data.parquet\")"
      ],
      "metadata": {
        "id": "gIXdZB2nAi_U"
      },
      "execution_count": 8,
      "outputs": []
    },
    {
      "cell_type": "code",
      "source": [
        "df.head()"
      ],
      "metadata": {
        "colab": {
          "base_uri": "https://localhost:8080/",
          "height": 371
        },
        "id": "Db5aOrv4Amrp",
        "outputId": "abf7d52c-d313-4920-9c1f-4921f242eb1b"
      },
      "execution_count": 9,
      "outputs": [
        {
          "output_type": "execute_result",
          "data": {
            "text/plain": [
              "                                     smiles smiles source  charge  \\\n",
              "cid                                                                 \n",
              "3              O=C(O)C1=CC=C[C@H](O)[C@H]1O     PubChemQC       0   \n",
              "4                               C[C@H](O)CN     PubChemQC       0   \n",
              "5                        NCC(=O)COP(=O)(O)O     PubChemQC       0   \n",
              "6    O=[N+]([O-])c1ccc(Cl)c([N+](=O)[O-])c1     PubChemQC       0   \n",
              "7                        CCn1cnc2c(N)ncnc21     PubChemQC       0   \n",
              "\n",
              "     total_dipole_moment  multiplicity      homo      lumo       gap  \\\n",
              "cid                                                                    \n",
              "3               5.266252             1 -6.821894 -2.239497  4.582397   \n",
              "4               2.681395             1 -6.187869  1.847653  8.035522   \n",
              "5               8.447997             1 -7.270882 -1.529280  5.741602   \n",
              "6               4.157554             1 -8.149810 -3.246318  4.903492   \n",
              "7               2.775867             1 -5.823236 -0.389123  5.434114   \n",
              "\n",
              "     total_energy      TD_ET_00  TD_OS_00      TD_ET_01  TD_OS_01  \\\n",
              "cid                                                                 \n",
              "3   -15575.874068  32576.410766  0.053438  34937.703709  0.127298   \n",
              "4    -6794.535860  45133.600212  0.003867  50498.445390  0.022722   \n",
              "5   -24256.843704  34507.648887  0.001015  41628.443712  0.008713   \n",
              "6   -29955.022787  30008.462447  0.008708  30033.272061  0.003050   \n",
              "7   -14856.035269  39855.991961  0.190582  40311.404854  0.020937   \n",
              "\n",
              "         TD_ET_02  TD_OS_02      TD_ET_03  TD_OS_03      TD_ET_04  TD_OS_04  \\\n",
              "cid                                                                           \n",
              "3    35191.469929  0.035610  38959.724483  0.045520  45869.452080  0.002901   \n",
              "4    52102.569231  0.001101  53565.199229  0.044094  54291.396641  0.024346   \n",
              "5    45462.755074  0.001559  46943.403498  0.000598  48366.754296  0.003638   \n",
              "6    33529.032202  0.020309  33901.611955  0.001681  34123.341833  0.005520   \n",
              "7    42125.119929  0.037105  43694.465144  0.011508  45023.182910  0.001745   \n",
              "\n",
              "         TD_ET_05  TD_OS_05      TD_ET_06  TD_OS_06      TD_ET_07  TD_OS_07  \\\n",
              "cid                                                                           \n",
              "3    46837.502902  0.004995  48214.775245  0.008408  48851.170886  0.003279   \n",
              "4    58571.208342  0.009868  60147.530252  0.014954  60319.624771  0.008397   \n",
              "5    50735.499802  0.000874  53071.087855  0.009599  54805.905776  0.025285   \n",
              "6    35756.461306  0.200556  36520.961987  0.046772  38970.830737  0.019129   \n",
              "7    45422.403156  0.002244  47443.717276  0.000626  48595.614115  0.159045   \n",
              "\n",
              "         TD_ET_08  TD_OS_08      TD_ET_09  TD_OS_09  \n",
              "cid                                                  \n",
              "3    50890.898644  0.046370  51729.941085  0.009966  \n",
              "4    60994.089781  0.004093  62458.026397  0.000847  \n",
              "5    54979.815042  0.000488  55740.210361  0.013173  \n",
              "6    39701.819082  0.000927  40475.820974  0.073291  \n",
              "7    48912.840038  0.016330  49181.261352  0.015406  "
            ],
            "text/html": [
              "\n",
              "  <div id=\"df-d14ba18c-62d2-4505-9be0-30b5f45dcbb9\">\n",
              "    <div class=\"colab-df-container\">\n",
              "      <div>\n",
              "<style scoped>\n",
              "    .dataframe tbody tr th:only-of-type {\n",
              "        vertical-align: middle;\n",
              "    }\n",
              "\n",
              "    .dataframe tbody tr th {\n",
              "        vertical-align: top;\n",
              "    }\n",
              "\n",
              "    .dataframe thead th {\n",
              "        text-align: right;\n",
              "    }\n",
              "</style>\n",
              "<table border=\"1\" class=\"dataframe\">\n",
              "  <thead>\n",
              "    <tr style=\"text-align: right;\">\n",
              "      <th></th>\n",
              "      <th>smiles</th>\n",
              "      <th>smiles source</th>\n",
              "      <th>charge</th>\n",
              "      <th>total_dipole_moment</th>\n",
              "      <th>multiplicity</th>\n",
              "      <th>homo</th>\n",
              "      <th>lumo</th>\n",
              "      <th>gap</th>\n",
              "      <th>total_energy</th>\n",
              "      <th>TD_ET_00</th>\n",
              "      <th>TD_OS_00</th>\n",
              "      <th>TD_ET_01</th>\n",
              "      <th>TD_OS_01</th>\n",
              "      <th>TD_ET_02</th>\n",
              "      <th>TD_OS_02</th>\n",
              "      <th>TD_ET_03</th>\n",
              "      <th>TD_OS_03</th>\n",
              "      <th>TD_ET_04</th>\n",
              "      <th>TD_OS_04</th>\n",
              "      <th>TD_ET_05</th>\n",
              "      <th>TD_OS_05</th>\n",
              "      <th>TD_ET_06</th>\n",
              "      <th>TD_OS_06</th>\n",
              "      <th>TD_ET_07</th>\n",
              "      <th>TD_OS_07</th>\n",
              "      <th>TD_ET_08</th>\n",
              "      <th>TD_OS_08</th>\n",
              "      <th>TD_ET_09</th>\n",
              "      <th>TD_OS_09</th>\n",
              "    </tr>\n",
              "    <tr>\n",
              "      <th>cid</th>\n",
              "      <th></th>\n",
              "      <th></th>\n",
              "      <th></th>\n",
              "      <th></th>\n",
              "      <th></th>\n",
              "      <th></th>\n",
              "      <th></th>\n",
              "      <th></th>\n",
              "      <th></th>\n",
              "      <th></th>\n",
              "      <th></th>\n",
              "      <th></th>\n",
              "      <th></th>\n",
              "      <th></th>\n",
              "      <th></th>\n",
              "      <th></th>\n",
              "      <th></th>\n",
              "      <th></th>\n",
              "      <th></th>\n",
              "      <th></th>\n",
              "      <th></th>\n",
              "      <th></th>\n",
              "      <th></th>\n",
              "      <th></th>\n",
              "      <th></th>\n",
              "      <th></th>\n",
              "      <th></th>\n",
              "      <th></th>\n",
              "      <th></th>\n",
              "    </tr>\n",
              "  </thead>\n",
              "  <tbody>\n",
              "    <tr>\n",
              "      <th>3</th>\n",
              "      <td>O=C(O)C1=CC=C[C@H](O)[C@H]1O</td>\n",
              "      <td>PubChemQC</td>\n",
              "      <td>0</td>\n",
              "      <td>5.266252</td>\n",
              "      <td>1</td>\n",
              "      <td>-6.821894</td>\n",
              "      <td>-2.239497</td>\n",
              "      <td>4.582397</td>\n",
              "      <td>-15575.874068</td>\n",
              "      <td>32576.410766</td>\n",
              "      <td>0.053438</td>\n",
              "      <td>34937.703709</td>\n",
              "      <td>0.127298</td>\n",
              "      <td>35191.469929</td>\n",
              "      <td>0.035610</td>\n",
              "      <td>38959.724483</td>\n",
              "      <td>0.045520</td>\n",
              "      <td>45869.452080</td>\n",
              "      <td>0.002901</td>\n",
              "      <td>46837.502902</td>\n",
              "      <td>0.004995</td>\n",
              "      <td>48214.775245</td>\n",
              "      <td>0.008408</td>\n",
              "      <td>48851.170886</td>\n",
              "      <td>0.003279</td>\n",
              "      <td>50890.898644</td>\n",
              "      <td>0.046370</td>\n",
              "      <td>51729.941085</td>\n",
              "      <td>0.009966</td>\n",
              "    </tr>\n",
              "    <tr>\n",
              "      <th>4</th>\n",
              "      <td>C[C@H](O)CN</td>\n",
              "      <td>PubChemQC</td>\n",
              "      <td>0</td>\n",
              "      <td>2.681395</td>\n",
              "      <td>1</td>\n",
              "      <td>-6.187869</td>\n",
              "      <td>1.847653</td>\n",
              "      <td>8.035522</td>\n",
              "      <td>-6794.535860</td>\n",
              "      <td>45133.600212</td>\n",
              "      <td>0.003867</td>\n",
              "      <td>50498.445390</td>\n",
              "      <td>0.022722</td>\n",
              "      <td>52102.569231</td>\n",
              "      <td>0.001101</td>\n",
              "      <td>53565.199229</td>\n",
              "      <td>0.044094</td>\n",
              "      <td>54291.396641</td>\n",
              "      <td>0.024346</td>\n",
              "      <td>58571.208342</td>\n",
              "      <td>0.009868</td>\n",
              "      <td>60147.530252</td>\n",
              "      <td>0.014954</td>\n",
              "      <td>60319.624771</td>\n",
              "      <td>0.008397</td>\n",
              "      <td>60994.089781</td>\n",
              "      <td>0.004093</td>\n",
              "      <td>62458.026397</td>\n",
              "      <td>0.000847</td>\n",
              "    </tr>\n",
              "    <tr>\n",
              "      <th>5</th>\n",
              "      <td>NCC(=O)COP(=O)(O)O</td>\n",
              "      <td>PubChemQC</td>\n",
              "      <td>0</td>\n",
              "      <td>8.447997</td>\n",
              "      <td>1</td>\n",
              "      <td>-7.270882</td>\n",
              "      <td>-1.529280</td>\n",
              "      <td>5.741602</td>\n",
              "      <td>-24256.843704</td>\n",
              "      <td>34507.648887</td>\n",
              "      <td>0.001015</td>\n",
              "      <td>41628.443712</td>\n",
              "      <td>0.008713</td>\n",
              "      <td>45462.755074</td>\n",
              "      <td>0.001559</td>\n",
              "      <td>46943.403498</td>\n",
              "      <td>0.000598</td>\n",
              "      <td>48366.754296</td>\n",
              "      <td>0.003638</td>\n",
              "      <td>50735.499802</td>\n",
              "      <td>0.000874</td>\n",
              "      <td>53071.087855</td>\n",
              "      <td>0.009599</td>\n",
              "      <td>54805.905776</td>\n",
              "      <td>0.025285</td>\n",
              "      <td>54979.815042</td>\n",
              "      <td>0.000488</td>\n",
              "      <td>55740.210361</td>\n",
              "      <td>0.013173</td>\n",
              "    </tr>\n",
              "    <tr>\n",
              "      <th>6</th>\n",
              "      <td>O=[N+]([O-])c1ccc(Cl)c([N+](=O)[O-])c1</td>\n",
              "      <td>PubChemQC</td>\n",
              "      <td>0</td>\n",
              "      <td>4.157554</td>\n",
              "      <td>1</td>\n",
              "      <td>-8.149810</td>\n",
              "      <td>-3.246318</td>\n",
              "      <td>4.903492</td>\n",
              "      <td>-29955.022787</td>\n",
              "      <td>30008.462447</td>\n",
              "      <td>0.008708</td>\n",
              "      <td>30033.272061</td>\n",
              "      <td>0.003050</td>\n",
              "      <td>33529.032202</td>\n",
              "      <td>0.020309</td>\n",
              "      <td>33901.611955</td>\n",
              "      <td>0.001681</td>\n",
              "      <td>34123.341833</td>\n",
              "      <td>0.005520</td>\n",
              "      <td>35756.461306</td>\n",
              "      <td>0.200556</td>\n",
              "      <td>36520.961987</td>\n",
              "      <td>0.046772</td>\n",
              "      <td>38970.830737</td>\n",
              "      <td>0.019129</td>\n",
              "      <td>39701.819082</td>\n",
              "      <td>0.000927</td>\n",
              "      <td>40475.820974</td>\n",
              "      <td>0.073291</td>\n",
              "    </tr>\n",
              "    <tr>\n",
              "      <th>7</th>\n",
              "      <td>CCn1cnc2c(N)ncnc21</td>\n",
              "      <td>PubChemQC</td>\n",
              "      <td>0</td>\n",
              "      <td>2.775867</td>\n",
              "      <td>1</td>\n",
              "      <td>-5.823236</td>\n",
              "      <td>-0.389123</td>\n",
              "      <td>5.434114</td>\n",
              "      <td>-14856.035269</td>\n",
              "      <td>39855.991961</td>\n",
              "      <td>0.190582</td>\n",
              "      <td>40311.404854</td>\n",
              "      <td>0.020937</td>\n",
              "      <td>42125.119929</td>\n",
              "      <td>0.037105</td>\n",
              "      <td>43694.465144</td>\n",
              "      <td>0.011508</td>\n",
              "      <td>45023.182910</td>\n",
              "      <td>0.001745</td>\n",
              "      <td>45422.403156</td>\n",
              "      <td>0.002244</td>\n",
              "      <td>47443.717276</td>\n",
              "      <td>0.000626</td>\n",
              "      <td>48595.614115</td>\n",
              "      <td>0.159045</td>\n",
              "      <td>48912.840038</td>\n",
              "      <td>0.016330</td>\n",
              "      <td>49181.261352</td>\n",
              "      <td>0.015406</td>\n",
              "    </tr>\n",
              "  </tbody>\n",
              "</table>\n",
              "</div>\n",
              "      <button class=\"colab-df-convert\" onclick=\"convertToInteractive('df-d14ba18c-62d2-4505-9be0-30b5f45dcbb9')\"\n",
              "              title=\"Convert this dataframe to an interactive table.\"\n",
              "              style=\"display:none;\">\n",
              "        \n",
              "  <svg xmlns=\"http://www.w3.org/2000/svg\" height=\"24px\"viewBox=\"0 0 24 24\"\n",
              "       width=\"24px\">\n",
              "    <path d=\"M0 0h24v24H0V0z\" fill=\"none\"/>\n",
              "    <path d=\"M18.56 5.44l.94 2.06.94-2.06 2.06-.94-2.06-.94-.94-2.06-.94 2.06-2.06.94zm-11 1L8.5 8.5l.94-2.06 2.06-.94-2.06-.94L8.5 2.5l-.94 2.06-2.06.94zm10 10l.94 2.06.94-2.06 2.06-.94-2.06-.94-.94-2.06-.94 2.06-2.06.94z\"/><path d=\"M17.41 7.96l-1.37-1.37c-.4-.4-.92-.59-1.43-.59-.52 0-1.04.2-1.43.59L10.3 9.45l-7.72 7.72c-.78.78-.78 2.05 0 2.83L4 21.41c.39.39.9.59 1.41.59.51 0 1.02-.2 1.41-.59l7.78-7.78 2.81-2.81c.8-.78.8-2.07 0-2.86zM5.41 20L4 18.59l7.72-7.72 1.47 1.35L5.41 20z\"/>\n",
              "  </svg>\n",
              "      </button>\n",
              "      \n",
              "  <style>\n",
              "    .colab-df-container {\n",
              "      display:flex;\n",
              "      flex-wrap:wrap;\n",
              "      gap: 12px;\n",
              "    }\n",
              "\n",
              "    .colab-df-convert {\n",
              "      background-color: #E8F0FE;\n",
              "      border: none;\n",
              "      border-radius: 50%;\n",
              "      cursor: pointer;\n",
              "      display: none;\n",
              "      fill: #1967D2;\n",
              "      height: 32px;\n",
              "      padding: 0 0 0 0;\n",
              "      width: 32px;\n",
              "    }\n",
              "\n",
              "    .colab-df-convert:hover {\n",
              "      background-color: #E2EBFA;\n",
              "      box-shadow: 0px 1px 2px rgba(60, 64, 67, 0.3), 0px 1px 3px 1px rgba(60, 64, 67, 0.15);\n",
              "      fill: #174EA6;\n",
              "    }\n",
              "\n",
              "    [theme=dark] .colab-df-convert {\n",
              "      background-color: #3B4455;\n",
              "      fill: #D2E3FC;\n",
              "    }\n",
              "\n",
              "    [theme=dark] .colab-df-convert:hover {\n",
              "      background-color: #434B5C;\n",
              "      box-shadow: 0px 1px 3px 1px rgba(0, 0, 0, 0.15);\n",
              "      filter: drop-shadow(0px 1px 2px rgba(0, 0, 0, 0.3));\n",
              "      fill: #FFFFFF;\n",
              "    }\n",
              "  </style>\n",
              "\n",
              "      <script>\n",
              "        const buttonEl =\n",
              "          document.querySelector('#df-d14ba18c-62d2-4505-9be0-30b5f45dcbb9 button.colab-df-convert');\n",
              "        buttonEl.style.display =\n",
              "          google.colab.kernel.accessAllowed ? 'block' : 'none';\n",
              "\n",
              "        async function convertToInteractive(key) {\n",
              "          const element = document.querySelector('#df-d14ba18c-62d2-4505-9be0-30b5f45dcbb9');\n",
              "          const dataTable =\n",
              "            await google.colab.kernel.invokeFunction('convertToInteractive',\n",
              "                                                     [key], {});\n",
              "          if (!dataTable) return;\n",
              "\n",
              "          const docLinkHtml = 'Like what you see? Visit the ' +\n",
              "            '<a target=\"_blank\" href=https://colab.research.google.com/notebooks/data_table.ipynb>data table notebook</a>'\n",
              "            + ' to learn more about interactive tables.';\n",
              "          element.innerHTML = '';\n",
              "          dataTable['output_type'] = 'display_data';\n",
              "          await google.colab.output.renderOutput(dataTable, element);\n",
              "          const docLink = document.createElement('div');\n",
              "          docLink.innerHTML = docLinkHtml;\n",
              "          element.appendChild(docLink);\n",
              "        }\n",
              "      </script>\n",
              "    </div>\n",
              "  </div>\n",
              "  "
            ]
          },
          "metadata": {},
          "execution_count": 9
        }
      ]
    },
    {
      "cell_type": "markdown",
      "source": [
        "As we still have some null data, let us drop them"
      ],
      "metadata": {
        "id": "FWnLAqhOCRoM"
      }
    },
    {
      "cell_type": "code",
      "source": [
        "df.isnull().sum()"
      ],
      "metadata": {
        "colab": {
          "base_uri": "https://localhost:8080/"
        },
        "id": "F2R5YB-BB-oG",
        "outputId": "f1bd22c5-9cf1-4d61-ada2-96e6b8ba66ad"
      },
      "execution_count": 10,
      "outputs": [
        {
          "output_type": "execute_result",
          "data": {
            "text/plain": [
              "smiles                   0\n",
              "smiles source            0\n",
              "charge                   0\n",
              "total_dipole_moment      0\n",
              "multiplicity             0\n",
              "homo                     0\n",
              "lumo                     0\n",
              "gap                      0\n",
              "total_energy             0\n",
              "TD_ET_00               387\n",
              "TD_OS_00               388\n",
              "TD_ET_01               391\n",
              "TD_OS_01               392\n",
              "TD_ET_02               391\n",
              "TD_OS_02               392\n",
              "TD_ET_03               391\n",
              "TD_OS_03               392\n",
              "TD_ET_04               395\n",
              "TD_OS_04               396\n",
              "TD_ET_05               398\n",
              "TD_OS_05               398\n",
              "TD_ET_06               398\n",
              "TD_OS_06               398\n",
              "TD_ET_07               398\n",
              "TD_OS_07               398\n",
              "TD_ET_08               398\n",
              "TD_OS_08               398\n",
              "TD_ET_09               408\n",
              "TD_OS_09               408\n",
              "dtype: int64"
            ]
          },
          "metadata": {},
          "execution_count": 10
        }
      ]
    },
    {
      "cell_type": "code",
      "source": [
        "df.dropna(inplace=True)"
      ],
      "metadata": {
        "id": "0R6NtZQKCWK9"
      },
      "execution_count": 11,
      "outputs": []
    },
    {
      "cell_type": "code",
      "source": [
        "df.isnull().sum()"
      ],
      "metadata": {
        "colab": {
          "base_uri": "https://localhost:8080/"
        },
        "id": "kxPRdff-Cf4p",
        "outputId": "3551071b-36c3-4a34-9baa-d235a13b172f"
      },
      "execution_count": 12,
      "outputs": [
        {
          "output_type": "execute_result",
          "data": {
            "text/plain": [
              "smiles                 0\n",
              "smiles source          0\n",
              "charge                 0\n",
              "total_dipole_moment    0\n",
              "multiplicity           0\n",
              "homo                   0\n",
              "lumo                   0\n",
              "gap                    0\n",
              "total_energy           0\n",
              "TD_ET_00               0\n",
              "TD_OS_00               0\n",
              "TD_ET_01               0\n",
              "TD_OS_01               0\n",
              "TD_ET_02               0\n",
              "TD_OS_02               0\n",
              "TD_ET_03               0\n",
              "TD_OS_03               0\n",
              "TD_ET_04               0\n",
              "TD_OS_04               0\n",
              "TD_ET_05               0\n",
              "TD_OS_05               0\n",
              "TD_ET_06               0\n",
              "TD_OS_06               0\n",
              "TD_ET_07               0\n",
              "TD_OS_07               0\n",
              "TD_ET_08               0\n",
              "TD_OS_08               0\n",
              "TD_ET_09               0\n",
              "TD_OS_09               0\n",
              "dtype: int64"
            ]
          },
          "metadata": {},
          "execution_count": 12
        }
      ]
    },
    {
      "cell_type": "markdown",
      "source": [
        "Testing Anatole's descriptor"
      ],
      "metadata": {
        "id": "NOcXzo9nIb4k"
      }
    },
    {
      "cell_type": "code",
      "source": [
        "!pip install molml"
      ],
      "metadata": {
        "colab": {
          "base_uri": "https://localhost:8080/"
        },
        "id": "hHOS_jwBCj0c",
        "outputId": "18ded2a8-7af4-4de0-af41-ee9d48595ee2"
      },
      "execution_count": 13,
      "outputs": [
        {
          "output_type": "stream",
          "name": "stdout",
          "text": [
            "Looking in indexes: https://pypi.org/simple, https://us-python.pkg.dev/colab-wheels/public/simple/\n",
            "Collecting molml\n",
            "  Downloading molml-0.9.0.tar.gz (49 kB)\n",
            "\u001b[2K     \u001b[90m━━━━━━━━━━━━━━━━━━━━━━━━━━━━━━━━━━━━━━━━\u001b[0m \u001b[32m49.3/49.3 KB\u001b[0m \u001b[31m3.9 MB/s\u001b[0m eta \u001b[36m0:00:00\u001b[0m\n",
            "\u001b[?25h  Preparing metadata (setup.py) ... \u001b[?25l\u001b[?25hdone\n",
            "Collecting pathos\n",
            "  Downloading pathos-0.3.0-py3-none-any.whl (79 kB)\n",
            "\u001b[2K     \u001b[90m━━━━━━━━━━━━━━━━━━━━━━━━━━━━━━━━━━━━━━━━\u001b[0m \u001b[32m79.8/79.8 KB\u001b[0m \u001b[31m6.3 MB/s\u001b[0m eta \u001b[36m0:00:00\u001b[0m\n",
            "\u001b[?25hRequirement already satisfied: future in /usr/local/lib/python3.9/dist-packages (from molml) (0.18.3)\n",
            "Collecting bidict\n",
            "  Downloading bidict-0.22.1-py3-none-any.whl (35 kB)\n",
            "Collecting ppft>=1.7.6.6\n",
            "  Downloading ppft-1.7.6.6-py3-none-any.whl (52 kB)\n",
            "\u001b[2K     \u001b[90m━━━━━━━━━━━━━━━━━━━━━━━━━━━━━━━━━━━━━━━━\u001b[0m \u001b[32m52.8/52.8 KB\u001b[0m \u001b[31m5.6 MB/s\u001b[0m eta \u001b[36m0:00:00\u001b[0m\n",
            "\u001b[?25hCollecting pox>=0.3.2\n",
            "  Downloading pox-0.3.2-py3-none-any.whl (29 kB)\n",
            "Collecting multiprocess>=0.70.14\n",
            "  Downloading multiprocess-0.70.14-py39-none-any.whl (132 kB)\n",
            "\u001b[2K     \u001b[90m━━━━━━━━━━━━━━━━━━━━━━━━━━━━━━━━━━━━━━\u001b[0m \u001b[32m132.9/132.9 KB\u001b[0m \u001b[31m10.6 MB/s\u001b[0m eta \u001b[36m0:00:00\u001b[0m\n",
            "\u001b[?25hCollecting dill>=0.3.6\n",
            "  Downloading dill-0.3.6-py3-none-any.whl (110 kB)\n",
            "\u001b[2K     \u001b[90m━━━━━━━━━━━━━━━━━━━━━━━━━━━━━━━━━━━━━━\u001b[0m \u001b[32m110.5/110.5 KB\u001b[0m \u001b[31m12.3 MB/s\u001b[0m eta \u001b[36m0:00:00\u001b[0m\n",
            "\u001b[?25hBuilding wheels for collected packages: molml\n",
            "  Building wheel for molml (setup.py) ... \u001b[?25l\u001b[?25hdone\n",
            "  Created wheel for molml: filename=molml-0.9.0-py3-none-any.whl size=48044 sha256=2c3d805ead4608f33610c92acd6ba6ae83801cdb469f9f1d1407e319a5c754f6\n",
            "  Stored in directory: /root/.cache/pip/wheels/9f/07/4f/fec3006a1826a191f185150e58f89682029b66c8c76b30fb6c\n",
            "Successfully built molml\n",
            "Installing collected packages: ppft, pox, dill, bidict, multiprocess, pathos, molml\n",
            "Successfully installed bidict-0.22.1 dill-0.3.6 molml-0.9.0 multiprocess-0.70.14 pathos-0.3.0 pox-0.3.2 ppft-1.7.6.6\n"
          ]
        }
      ]
    },
    {
      "cell_type": "code",
      "source": [
        "from molml.features import BagOfBonds"
      ],
      "metadata": {
        "id": "-CLCXqH3IfSY"
      },
      "execution_count": 15,
      "outputs": []
    },
    {
      "cell_type": "code",
      "source": [
        "smi = df['smiles'].values[0]"
      ],
      "metadata": {
        "id": "uLku4XQNI9SK"
      },
      "execution_count": 20,
      "outputs": []
    },
    {
      "cell_type": "code",
      "source": [
        "smi_test = BagOfBonds(smi)"
      ],
      "metadata": {
        "id": "3eFPtsvnLYWf"
      },
      "execution_count": 26,
      "outputs": []
    },
    {
      "cell_type": "code",
      "source": [
        "smi_test"
      ],
      "metadata": {
        "colab": {
          "base_uri": "https://localhost:8080/"
        },
        "id": "k508OE32LkA_",
        "outputId": "31c57b8f-f98d-460a-8eea-c2bc283c0f8f"
      },
      "execution_count": 32,
      "outputs": [
        {
          "output_type": "execute_result",
          "data": {
            "text/plain": [
              "BagOfBonds(input_type='O=C(O)C1=CC=C[C@H](O)[C@H]1O', n_jobs=1, drop_values=False, add_atoms=False)"
            ]
          },
          "metadata": {},
          "execution_count": 32
        }
      ]
    },
    {
      "cell_type": "code",
      "source": [
        "type(smi_test)"
      ],
      "metadata": {
        "colab": {
          "base_uri": "https://localhost:8080/"
        },
        "id": "l807BfspPVmE",
        "outputId": "97969a47-70b8-4328-8040-cd6eecbe8df2"
      },
      "execution_count": 31,
      "outputs": [
        {
          "output_type": "execute_result",
          "data": {
            "text/plain": [
              "molml.molecule.BagOfBonds"
            ]
          },
          "metadata": {},
          "execution_count": 31
        }
      ]
    },
    {
      "cell_type": "markdown",
      "source": [
        "Implementing Anatole's descriptor"
      ],
      "metadata": {
        "id": "MigTc1e4Ucna"
      }
    },
    {
      "cell_type": "code",
      "source": [
        "df['BoB'] = df['smiles'].apply(lambda x: BagOfBonds(x))"
      ],
      "metadata": {
        "id": "YtsGXfziPyHS"
      },
      "execution_count": 33,
      "outputs": []
    },
    {
      "cell_type": "code",
      "source": [],
      "metadata": {
        "id": "vuhrp-NxUxmQ"
      },
      "execution_count": null,
      "outputs": []
    }
  ]
}